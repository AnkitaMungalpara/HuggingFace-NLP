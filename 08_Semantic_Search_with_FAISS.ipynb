{
  "nbformat": 4,
  "nbformat_minor": 0,
  "metadata": {
    "colab": {
      "provenance": [],
      "gpuType": "T4"
    },
    "kernelspec": {
      "name": "python3",
      "display_name": "Python 3"
    },
    "language_info": {
      "name": "python"
    },
    "accelerator": "GPU",
    "widgets": {
      "application/vnd.jupyter.widget-state+json": {
        "fb983d0d80d8401d9a5926e88cc73a8f": {
          "model_module": "@jupyter-widgets/controls",
          "model_name": "HBoxModel",
          "model_module_version": "1.5.0",
          "state": {
            "_dom_classes": [],
            "_model_module": "@jupyter-widgets/controls",
            "_model_module_version": "1.5.0",
            "_model_name": "HBoxModel",
            "_view_count": null,
            "_view_module": "@jupyter-widgets/controls",
            "_view_module_version": "1.5.0",
            "_view_name": "HBoxView",
            "box_style": "",
            "children": [
              "IPY_MODEL_4bfa5acfe8af45358d0faf170c5a48bd",
              "IPY_MODEL_d22f56c5903d4b1ab947ef979b3f8507",
              "IPY_MODEL_c873475864a546f29581c0fa48947e19"
            ],
            "layout": "IPY_MODEL_b69700e43cc745f89d2a4b8048f6cbfc"
          }
        },
        "4bfa5acfe8af45358d0faf170c5a48bd": {
          "model_module": "@jupyter-widgets/controls",
          "model_name": "HTMLModel",
          "model_module_version": "1.5.0",
          "state": {
            "_dom_classes": [],
            "_model_module": "@jupyter-widgets/controls",
            "_model_module_version": "1.5.0",
            "_model_name": "HTMLModel",
            "_view_count": null,
            "_view_module": "@jupyter-widgets/controls",
            "_view_module_version": "1.5.0",
            "_view_name": "HTMLView",
            "description": "",
            "description_tooltip": null,
            "layout": "IPY_MODEL_655f2c6898a04461b605ad3ae07a6488",
            "placeholder": "​",
            "style": "IPY_MODEL_3fa6e0a5ecf643f9a145a599a7e60089",
            "value": "Map: 100%"
          }
        },
        "d22f56c5903d4b1ab947ef979b3f8507": {
          "model_module": "@jupyter-widgets/controls",
          "model_name": "FloatProgressModel",
          "model_module_version": "1.5.0",
          "state": {
            "_dom_classes": [],
            "_model_module": "@jupyter-widgets/controls",
            "_model_module_version": "1.5.0",
            "_model_name": "FloatProgressModel",
            "_view_count": null,
            "_view_module": "@jupyter-widgets/controls",
            "_view_module_version": "1.5.0",
            "_view_name": "ProgressView",
            "bar_style": "success",
            "description": "",
            "description_tooltip": null,
            "layout": "IPY_MODEL_37761d73bf244322a52582981cce65d7",
            "max": 2964,
            "min": 0,
            "orientation": "horizontal",
            "style": "IPY_MODEL_6513be866d3c430780f0f8f7f67bb044",
            "value": 2964
          }
        },
        "c873475864a546f29581c0fa48947e19": {
          "model_module": "@jupyter-widgets/controls",
          "model_name": "HTMLModel",
          "model_module_version": "1.5.0",
          "state": {
            "_dom_classes": [],
            "_model_module": "@jupyter-widgets/controls",
            "_model_module_version": "1.5.0",
            "_model_name": "HTMLModel",
            "_view_count": null,
            "_view_module": "@jupyter-widgets/controls",
            "_view_module_version": "1.5.0",
            "_view_name": "HTMLView",
            "description": "",
            "description_tooltip": null,
            "layout": "IPY_MODEL_6c044f7f38b54fcf85cc8689b04843f7",
            "placeholder": "​",
            "style": "IPY_MODEL_158cf8a19e034e9c8ac21aa7c3edf7cf",
            "value": " 2964/2964 [00:00&lt;00:00, 4609.79 examples/s]"
          }
        },
        "b69700e43cc745f89d2a4b8048f6cbfc": {
          "model_module": "@jupyter-widgets/base",
          "model_name": "LayoutModel",
          "model_module_version": "1.2.0",
          "state": {
            "_model_module": "@jupyter-widgets/base",
            "_model_module_version": "1.2.0",
            "_model_name": "LayoutModel",
            "_view_count": null,
            "_view_module": "@jupyter-widgets/base",
            "_view_module_version": "1.2.0",
            "_view_name": "LayoutView",
            "align_content": null,
            "align_items": null,
            "align_self": null,
            "border": null,
            "bottom": null,
            "display": null,
            "flex": null,
            "flex_flow": null,
            "grid_area": null,
            "grid_auto_columns": null,
            "grid_auto_flow": null,
            "grid_auto_rows": null,
            "grid_column": null,
            "grid_gap": null,
            "grid_row": null,
            "grid_template_areas": null,
            "grid_template_columns": null,
            "grid_template_rows": null,
            "height": null,
            "justify_content": null,
            "justify_items": null,
            "left": null,
            "margin": null,
            "max_height": null,
            "max_width": null,
            "min_height": null,
            "min_width": null,
            "object_fit": null,
            "object_position": null,
            "order": null,
            "overflow": null,
            "overflow_x": null,
            "overflow_y": null,
            "padding": null,
            "right": null,
            "top": null,
            "visibility": null,
            "width": null
          }
        },
        "655f2c6898a04461b605ad3ae07a6488": {
          "model_module": "@jupyter-widgets/base",
          "model_name": "LayoutModel",
          "model_module_version": "1.2.0",
          "state": {
            "_model_module": "@jupyter-widgets/base",
            "_model_module_version": "1.2.0",
            "_model_name": "LayoutModel",
            "_view_count": null,
            "_view_module": "@jupyter-widgets/base",
            "_view_module_version": "1.2.0",
            "_view_name": "LayoutView",
            "align_content": null,
            "align_items": null,
            "align_self": null,
            "border": null,
            "bottom": null,
            "display": null,
            "flex": null,
            "flex_flow": null,
            "grid_area": null,
            "grid_auto_columns": null,
            "grid_auto_flow": null,
            "grid_auto_rows": null,
            "grid_column": null,
            "grid_gap": null,
            "grid_row": null,
            "grid_template_areas": null,
            "grid_template_columns": null,
            "grid_template_rows": null,
            "height": null,
            "justify_content": null,
            "justify_items": null,
            "left": null,
            "margin": null,
            "max_height": null,
            "max_width": null,
            "min_height": null,
            "min_width": null,
            "object_fit": null,
            "object_position": null,
            "order": null,
            "overflow": null,
            "overflow_x": null,
            "overflow_y": null,
            "padding": null,
            "right": null,
            "top": null,
            "visibility": null,
            "width": null
          }
        },
        "3fa6e0a5ecf643f9a145a599a7e60089": {
          "model_module": "@jupyter-widgets/controls",
          "model_name": "DescriptionStyleModel",
          "model_module_version": "1.5.0",
          "state": {
            "_model_module": "@jupyter-widgets/controls",
            "_model_module_version": "1.5.0",
            "_model_name": "DescriptionStyleModel",
            "_view_count": null,
            "_view_module": "@jupyter-widgets/base",
            "_view_module_version": "1.2.0",
            "_view_name": "StyleView",
            "description_width": ""
          }
        },
        "37761d73bf244322a52582981cce65d7": {
          "model_module": "@jupyter-widgets/base",
          "model_name": "LayoutModel",
          "model_module_version": "1.2.0",
          "state": {
            "_model_module": "@jupyter-widgets/base",
            "_model_module_version": "1.2.0",
            "_model_name": "LayoutModel",
            "_view_count": null,
            "_view_module": "@jupyter-widgets/base",
            "_view_module_version": "1.2.0",
            "_view_name": "LayoutView",
            "align_content": null,
            "align_items": null,
            "align_self": null,
            "border": null,
            "bottom": null,
            "display": null,
            "flex": null,
            "flex_flow": null,
            "grid_area": null,
            "grid_auto_columns": null,
            "grid_auto_flow": null,
            "grid_auto_rows": null,
            "grid_column": null,
            "grid_gap": null,
            "grid_row": null,
            "grid_template_areas": null,
            "grid_template_columns": null,
            "grid_template_rows": null,
            "height": null,
            "justify_content": null,
            "justify_items": null,
            "left": null,
            "margin": null,
            "max_height": null,
            "max_width": null,
            "min_height": null,
            "min_width": null,
            "object_fit": null,
            "object_position": null,
            "order": null,
            "overflow": null,
            "overflow_x": null,
            "overflow_y": null,
            "padding": null,
            "right": null,
            "top": null,
            "visibility": null,
            "width": null
          }
        },
        "6513be866d3c430780f0f8f7f67bb044": {
          "model_module": "@jupyter-widgets/controls",
          "model_name": "ProgressStyleModel",
          "model_module_version": "1.5.0",
          "state": {
            "_model_module": "@jupyter-widgets/controls",
            "_model_module_version": "1.5.0",
            "_model_name": "ProgressStyleModel",
            "_view_count": null,
            "_view_module": "@jupyter-widgets/base",
            "_view_module_version": "1.2.0",
            "_view_name": "StyleView",
            "bar_color": null,
            "description_width": ""
          }
        },
        "6c044f7f38b54fcf85cc8689b04843f7": {
          "model_module": "@jupyter-widgets/base",
          "model_name": "LayoutModel",
          "model_module_version": "1.2.0",
          "state": {
            "_model_module": "@jupyter-widgets/base",
            "_model_module_version": "1.2.0",
            "_model_name": "LayoutModel",
            "_view_count": null,
            "_view_module": "@jupyter-widgets/base",
            "_view_module_version": "1.2.0",
            "_view_name": "LayoutView",
            "align_content": null,
            "align_items": null,
            "align_self": null,
            "border": null,
            "bottom": null,
            "display": null,
            "flex": null,
            "flex_flow": null,
            "grid_area": null,
            "grid_auto_columns": null,
            "grid_auto_flow": null,
            "grid_auto_rows": null,
            "grid_column": null,
            "grid_gap": null,
            "grid_row": null,
            "grid_template_areas": null,
            "grid_template_columns": null,
            "grid_template_rows": null,
            "height": null,
            "justify_content": null,
            "justify_items": null,
            "left": null,
            "margin": null,
            "max_height": null,
            "max_width": null,
            "min_height": null,
            "min_width": null,
            "object_fit": null,
            "object_position": null,
            "order": null,
            "overflow": null,
            "overflow_x": null,
            "overflow_y": null,
            "padding": null,
            "right": null,
            "top": null,
            "visibility": null,
            "width": null
          }
        },
        "158cf8a19e034e9c8ac21aa7c3edf7cf": {
          "model_module": "@jupyter-widgets/controls",
          "model_name": "DescriptionStyleModel",
          "model_module_version": "1.5.0",
          "state": {
            "_model_module": "@jupyter-widgets/controls",
            "_model_module_version": "1.5.0",
            "_model_name": "DescriptionStyleModel",
            "_view_count": null,
            "_view_module": "@jupyter-widgets/base",
            "_view_module_version": "1.2.0",
            "_view_name": "StyleView",
            "description_width": ""
          }
        },
        "fc6a485424fd4bf98a9a0c12852c1c59": {
          "model_module": "@jupyter-widgets/controls",
          "model_name": "HBoxModel",
          "model_module_version": "1.5.0",
          "state": {
            "_dom_classes": [],
            "_model_module": "@jupyter-widgets/controls",
            "_model_module_version": "1.5.0",
            "_model_name": "HBoxModel",
            "_view_count": null,
            "_view_module": "@jupyter-widgets/controls",
            "_view_module_version": "1.5.0",
            "_view_name": "HBoxView",
            "box_style": "",
            "children": [
              "IPY_MODEL_1410874bedc94a08b0a380d3146a3322",
              "IPY_MODEL_672316816a7d4ac58425cba5017c3e19",
              "IPY_MODEL_e60796736b074445b14457dee4193c4a"
            ],
            "layout": "IPY_MODEL_a3a64eb8721f4be5a92ae68c24c9a072"
          }
        },
        "1410874bedc94a08b0a380d3146a3322": {
          "model_module": "@jupyter-widgets/controls",
          "model_name": "HTMLModel",
          "model_module_version": "1.5.0",
          "state": {
            "_dom_classes": [],
            "_model_module": "@jupyter-widgets/controls",
            "_model_module_version": "1.5.0",
            "_model_name": "HTMLModel",
            "_view_count": null,
            "_view_module": "@jupyter-widgets/controls",
            "_view_module_version": "1.5.0",
            "_view_name": "HTMLView",
            "description": "",
            "description_tooltip": null,
            "layout": "IPY_MODEL_fa24bda7b1834f7ea9448f9e0f135dcc",
            "placeholder": "​",
            "style": "IPY_MODEL_08a42e07435d4aff80e3e72323100771",
            "value": "Map: 100%"
          }
        },
        "672316816a7d4ac58425cba5017c3e19": {
          "model_module": "@jupyter-widgets/controls",
          "model_name": "FloatProgressModel",
          "model_module_version": "1.5.0",
          "state": {
            "_dom_classes": [],
            "_model_module": "@jupyter-widgets/controls",
            "_model_module_version": "1.5.0",
            "_model_name": "FloatProgressModel",
            "_view_count": null,
            "_view_module": "@jupyter-widgets/controls",
            "_view_module_version": "1.5.0",
            "_view_name": "ProgressView",
            "bar_style": "success",
            "description": "",
            "description_tooltip": null,
            "layout": "IPY_MODEL_4f378f8a36a24fbdad8cacf9d4745cc4",
            "max": 2964,
            "min": 0,
            "orientation": "horizontal",
            "style": "IPY_MODEL_bb5a20ae5e9d471faa743ad333702d1b",
            "value": 2964
          }
        },
        "e60796736b074445b14457dee4193c4a": {
          "model_module": "@jupyter-widgets/controls",
          "model_name": "HTMLModel",
          "model_module_version": "1.5.0",
          "state": {
            "_dom_classes": [],
            "_model_module": "@jupyter-widgets/controls",
            "_model_module_version": "1.5.0",
            "_model_name": "HTMLModel",
            "_view_count": null,
            "_view_module": "@jupyter-widgets/controls",
            "_view_module_version": "1.5.0",
            "_view_name": "HTMLView",
            "description": "",
            "description_tooltip": null,
            "layout": "IPY_MODEL_763dff08c14e455e9c2e48aaaef8839a",
            "placeholder": "​",
            "style": "IPY_MODEL_dd5556c9ce69424eb731d9073a027693",
            "value": " 2964/2964 [00:01&lt;00:00, 3491.67 examples/s]"
          }
        },
        "a3a64eb8721f4be5a92ae68c24c9a072": {
          "model_module": "@jupyter-widgets/base",
          "model_name": "LayoutModel",
          "model_module_version": "1.2.0",
          "state": {
            "_model_module": "@jupyter-widgets/base",
            "_model_module_version": "1.2.0",
            "_model_name": "LayoutModel",
            "_view_count": null,
            "_view_module": "@jupyter-widgets/base",
            "_view_module_version": "1.2.0",
            "_view_name": "LayoutView",
            "align_content": null,
            "align_items": null,
            "align_self": null,
            "border": null,
            "bottom": null,
            "display": null,
            "flex": null,
            "flex_flow": null,
            "grid_area": null,
            "grid_auto_columns": null,
            "grid_auto_flow": null,
            "grid_auto_rows": null,
            "grid_column": null,
            "grid_gap": null,
            "grid_row": null,
            "grid_template_areas": null,
            "grid_template_columns": null,
            "grid_template_rows": null,
            "height": null,
            "justify_content": null,
            "justify_items": null,
            "left": null,
            "margin": null,
            "max_height": null,
            "max_width": null,
            "min_height": null,
            "min_width": null,
            "object_fit": null,
            "object_position": null,
            "order": null,
            "overflow": null,
            "overflow_x": null,
            "overflow_y": null,
            "padding": null,
            "right": null,
            "top": null,
            "visibility": null,
            "width": null
          }
        },
        "fa24bda7b1834f7ea9448f9e0f135dcc": {
          "model_module": "@jupyter-widgets/base",
          "model_name": "LayoutModel",
          "model_module_version": "1.2.0",
          "state": {
            "_model_module": "@jupyter-widgets/base",
            "_model_module_version": "1.2.0",
            "_model_name": "LayoutModel",
            "_view_count": null,
            "_view_module": "@jupyter-widgets/base",
            "_view_module_version": "1.2.0",
            "_view_name": "LayoutView",
            "align_content": null,
            "align_items": null,
            "align_self": null,
            "border": null,
            "bottom": null,
            "display": null,
            "flex": null,
            "flex_flow": null,
            "grid_area": null,
            "grid_auto_columns": null,
            "grid_auto_flow": null,
            "grid_auto_rows": null,
            "grid_column": null,
            "grid_gap": null,
            "grid_row": null,
            "grid_template_areas": null,
            "grid_template_columns": null,
            "grid_template_rows": null,
            "height": null,
            "justify_content": null,
            "justify_items": null,
            "left": null,
            "margin": null,
            "max_height": null,
            "max_width": null,
            "min_height": null,
            "min_width": null,
            "object_fit": null,
            "object_position": null,
            "order": null,
            "overflow": null,
            "overflow_x": null,
            "overflow_y": null,
            "padding": null,
            "right": null,
            "top": null,
            "visibility": null,
            "width": null
          }
        },
        "08a42e07435d4aff80e3e72323100771": {
          "model_module": "@jupyter-widgets/controls",
          "model_name": "DescriptionStyleModel",
          "model_module_version": "1.5.0",
          "state": {
            "_model_module": "@jupyter-widgets/controls",
            "_model_module_version": "1.5.0",
            "_model_name": "DescriptionStyleModel",
            "_view_count": null,
            "_view_module": "@jupyter-widgets/base",
            "_view_module_version": "1.2.0",
            "_view_name": "StyleView",
            "description_width": ""
          }
        },
        "4f378f8a36a24fbdad8cacf9d4745cc4": {
          "model_module": "@jupyter-widgets/base",
          "model_name": "LayoutModel",
          "model_module_version": "1.2.0",
          "state": {
            "_model_module": "@jupyter-widgets/base",
            "_model_module_version": "1.2.0",
            "_model_name": "LayoutModel",
            "_view_count": null,
            "_view_module": "@jupyter-widgets/base",
            "_view_module_version": "1.2.0",
            "_view_name": "LayoutView",
            "align_content": null,
            "align_items": null,
            "align_self": null,
            "border": null,
            "bottom": null,
            "display": null,
            "flex": null,
            "flex_flow": null,
            "grid_area": null,
            "grid_auto_columns": null,
            "grid_auto_flow": null,
            "grid_auto_rows": null,
            "grid_column": null,
            "grid_gap": null,
            "grid_row": null,
            "grid_template_areas": null,
            "grid_template_columns": null,
            "grid_template_rows": null,
            "height": null,
            "justify_content": null,
            "justify_items": null,
            "left": null,
            "margin": null,
            "max_height": null,
            "max_width": null,
            "min_height": null,
            "min_width": null,
            "object_fit": null,
            "object_position": null,
            "order": null,
            "overflow": null,
            "overflow_x": null,
            "overflow_y": null,
            "padding": null,
            "right": null,
            "top": null,
            "visibility": null,
            "width": null
          }
        },
        "bb5a20ae5e9d471faa743ad333702d1b": {
          "model_module": "@jupyter-widgets/controls",
          "model_name": "ProgressStyleModel",
          "model_module_version": "1.5.0",
          "state": {
            "_model_module": "@jupyter-widgets/controls",
            "_model_module_version": "1.5.0",
            "_model_name": "ProgressStyleModel",
            "_view_count": null,
            "_view_module": "@jupyter-widgets/base",
            "_view_module_version": "1.2.0",
            "_view_name": "StyleView",
            "bar_color": null,
            "description_width": ""
          }
        },
        "763dff08c14e455e9c2e48aaaef8839a": {
          "model_module": "@jupyter-widgets/base",
          "model_name": "LayoutModel",
          "model_module_version": "1.2.0",
          "state": {
            "_model_module": "@jupyter-widgets/base",
            "_model_module_version": "1.2.0",
            "_model_name": "LayoutModel",
            "_view_count": null,
            "_view_module": "@jupyter-widgets/base",
            "_view_module_version": "1.2.0",
            "_view_name": "LayoutView",
            "align_content": null,
            "align_items": null,
            "align_self": null,
            "border": null,
            "bottom": null,
            "display": null,
            "flex": null,
            "flex_flow": null,
            "grid_area": null,
            "grid_auto_columns": null,
            "grid_auto_flow": null,
            "grid_auto_rows": null,
            "grid_column": null,
            "grid_gap": null,
            "grid_row": null,
            "grid_template_areas": null,
            "grid_template_columns": null,
            "grid_template_rows": null,
            "height": null,
            "justify_content": null,
            "justify_items": null,
            "left": null,
            "margin": null,
            "max_height": null,
            "max_width": null,
            "min_height": null,
            "min_width": null,
            "object_fit": null,
            "object_position": null,
            "order": null,
            "overflow": null,
            "overflow_x": null,
            "overflow_y": null,
            "padding": null,
            "right": null,
            "top": null,
            "visibility": null,
            "width": null
          }
        },
        "dd5556c9ce69424eb731d9073a027693": {
          "model_module": "@jupyter-widgets/controls",
          "model_name": "DescriptionStyleModel",
          "model_module_version": "1.5.0",
          "state": {
            "_model_module": "@jupyter-widgets/controls",
            "_model_module_version": "1.5.0",
            "_model_name": "DescriptionStyleModel",
            "_view_count": null,
            "_view_module": "@jupyter-widgets/base",
            "_view_module_version": "1.2.0",
            "_view_name": "StyleView",
            "description_width": ""
          }
        },
        "f59055e7348d46ce8ef90f7a0193e7db": {
          "model_module": "@jupyter-widgets/controls",
          "model_name": "HBoxModel",
          "model_module_version": "1.5.0",
          "state": {
            "_dom_classes": [],
            "_model_module": "@jupyter-widgets/controls",
            "_model_module_version": "1.5.0",
            "_model_name": "HBoxModel",
            "_view_count": null,
            "_view_module": "@jupyter-widgets/controls",
            "_view_module_version": "1.5.0",
            "_view_name": "HBoxView",
            "box_style": "",
            "children": [
              "IPY_MODEL_0fc4fc8405514ead8eb765c6cf4b5e8a",
              "IPY_MODEL_dec4923833b04307bfb3023c5e674ade",
              "IPY_MODEL_b21c984060f24808a60f1684d5b512f9"
            ],
            "layout": "IPY_MODEL_c54ea0e5b4e3477f9c17a1bb2e7b93cf"
          }
        },
        "0fc4fc8405514ead8eb765c6cf4b5e8a": {
          "model_module": "@jupyter-widgets/controls",
          "model_name": "HTMLModel",
          "model_module_version": "1.5.0",
          "state": {
            "_dom_classes": [],
            "_model_module": "@jupyter-widgets/controls",
            "_model_module_version": "1.5.0",
            "_model_name": "HTMLModel",
            "_view_count": null,
            "_view_module": "@jupyter-widgets/controls",
            "_view_module_version": "1.5.0",
            "_view_name": "HTMLView",
            "description": "",
            "description_tooltip": null,
            "layout": "IPY_MODEL_315133bc5bd84e30b81356c10ad325b2",
            "placeholder": "​",
            "style": "IPY_MODEL_79bd7c4e9469420c9fc2ae8139802c72",
            "value": "Map: 100%"
          }
        },
        "dec4923833b04307bfb3023c5e674ade": {
          "model_module": "@jupyter-widgets/controls",
          "model_name": "FloatProgressModel",
          "model_module_version": "1.5.0",
          "state": {
            "_dom_classes": [],
            "_model_module": "@jupyter-widgets/controls",
            "_model_module_version": "1.5.0",
            "_model_name": "FloatProgressModel",
            "_view_count": null,
            "_view_module": "@jupyter-widgets/controls",
            "_view_module_version": "1.5.0",
            "_view_name": "ProgressView",
            "bar_style": "success",
            "description": "",
            "description_tooltip": null,
            "layout": "IPY_MODEL_863e997ba9f542f4a99df093c8bea4e7",
            "max": 2964,
            "min": 0,
            "orientation": "horizontal",
            "style": "IPY_MODEL_857bfdf8a0624e44bd1c3938549ef278",
            "value": 2964
          }
        },
        "b21c984060f24808a60f1684d5b512f9": {
          "model_module": "@jupyter-widgets/controls",
          "model_name": "HTMLModel",
          "model_module_version": "1.5.0",
          "state": {
            "_dom_classes": [],
            "_model_module": "@jupyter-widgets/controls",
            "_model_module_version": "1.5.0",
            "_model_name": "HTMLModel",
            "_view_count": null,
            "_view_module": "@jupyter-widgets/controls",
            "_view_module_version": "1.5.0",
            "_view_name": "HTMLView",
            "description": "",
            "description_tooltip": null,
            "layout": "IPY_MODEL_5aee944447594009936c4beaad2fac73",
            "placeholder": "​",
            "style": "IPY_MODEL_2f8e5a68187a4d3d8159252b297f114a",
            "value": " 2964/2964 [01:42&lt;00:00, 40.07 examples/s]"
          }
        },
        "c54ea0e5b4e3477f9c17a1bb2e7b93cf": {
          "model_module": "@jupyter-widgets/base",
          "model_name": "LayoutModel",
          "model_module_version": "1.2.0",
          "state": {
            "_model_module": "@jupyter-widgets/base",
            "_model_module_version": "1.2.0",
            "_model_name": "LayoutModel",
            "_view_count": null,
            "_view_module": "@jupyter-widgets/base",
            "_view_module_version": "1.2.0",
            "_view_name": "LayoutView",
            "align_content": null,
            "align_items": null,
            "align_self": null,
            "border": null,
            "bottom": null,
            "display": null,
            "flex": null,
            "flex_flow": null,
            "grid_area": null,
            "grid_auto_columns": null,
            "grid_auto_flow": null,
            "grid_auto_rows": null,
            "grid_column": null,
            "grid_gap": null,
            "grid_row": null,
            "grid_template_areas": null,
            "grid_template_columns": null,
            "grid_template_rows": null,
            "height": null,
            "justify_content": null,
            "justify_items": null,
            "left": null,
            "margin": null,
            "max_height": null,
            "max_width": null,
            "min_height": null,
            "min_width": null,
            "object_fit": null,
            "object_position": null,
            "order": null,
            "overflow": null,
            "overflow_x": null,
            "overflow_y": null,
            "padding": null,
            "right": null,
            "top": null,
            "visibility": null,
            "width": null
          }
        },
        "315133bc5bd84e30b81356c10ad325b2": {
          "model_module": "@jupyter-widgets/base",
          "model_name": "LayoutModel",
          "model_module_version": "1.2.0",
          "state": {
            "_model_module": "@jupyter-widgets/base",
            "_model_module_version": "1.2.0",
            "_model_name": "LayoutModel",
            "_view_count": null,
            "_view_module": "@jupyter-widgets/base",
            "_view_module_version": "1.2.0",
            "_view_name": "LayoutView",
            "align_content": null,
            "align_items": null,
            "align_self": null,
            "border": null,
            "bottom": null,
            "display": null,
            "flex": null,
            "flex_flow": null,
            "grid_area": null,
            "grid_auto_columns": null,
            "grid_auto_flow": null,
            "grid_auto_rows": null,
            "grid_column": null,
            "grid_gap": null,
            "grid_row": null,
            "grid_template_areas": null,
            "grid_template_columns": null,
            "grid_template_rows": null,
            "height": null,
            "justify_content": null,
            "justify_items": null,
            "left": null,
            "margin": null,
            "max_height": null,
            "max_width": null,
            "min_height": null,
            "min_width": null,
            "object_fit": null,
            "object_position": null,
            "order": null,
            "overflow": null,
            "overflow_x": null,
            "overflow_y": null,
            "padding": null,
            "right": null,
            "top": null,
            "visibility": null,
            "width": null
          }
        },
        "79bd7c4e9469420c9fc2ae8139802c72": {
          "model_module": "@jupyter-widgets/controls",
          "model_name": "DescriptionStyleModel",
          "model_module_version": "1.5.0",
          "state": {
            "_model_module": "@jupyter-widgets/controls",
            "_model_module_version": "1.5.0",
            "_model_name": "DescriptionStyleModel",
            "_view_count": null,
            "_view_module": "@jupyter-widgets/base",
            "_view_module_version": "1.2.0",
            "_view_name": "StyleView",
            "description_width": ""
          }
        },
        "863e997ba9f542f4a99df093c8bea4e7": {
          "model_module": "@jupyter-widgets/base",
          "model_name": "LayoutModel",
          "model_module_version": "1.2.0",
          "state": {
            "_model_module": "@jupyter-widgets/base",
            "_model_module_version": "1.2.0",
            "_model_name": "LayoutModel",
            "_view_count": null,
            "_view_module": "@jupyter-widgets/base",
            "_view_module_version": "1.2.0",
            "_view_name": "LayoutView",
            "align_content": null,
            "align_items": null,
            "align_self": null,
            "border": null,
            "bottom": null,
            "display": null,
            "flex": null,
            "flex_flow": null,
            "grid_area": null,
            "grid_auto_columns": null,
            "grid_auto_flow": null,
            "grid_auto_rows": null,
            "grid_column": null,
            "grid_gap": null,
            "grid_row": null,
            "grid_template_areas": null,
            "grid_template_columns": null,
            "grid_template_rows": null,
            "height": null,
            "justify_content": null,
            "justify_items": null,
            "left": null,
            "margin": null,
            "max_height": null,
            "max_width": null,
            "min_height": null,
            "min_width": null,
            "object_fit": null,
            "object_position": null,
            "order": null,
            "overflow": null,
            "overflow_x": null,
            "overflow_y": null,
            "padding": null,
            "right": null,
            "top": null,
            "visibility": null,
            "width": null
          }
        },
        "857bfdf8a0624e44bd1c3938549ef278": {
          "model_module": "@jupyter-widgets/controls",
          "model_name": "ProgressStyleModel",
          "model_module_version": "1.5.0",
          "state": {
            "_model_module": "@jupyter-widgets/controls",
            "_model_module_version": "1.5.0",
            "_model_name": "ProgressStyleModel",
            "_view_count": null,
            "_view_module": "@jupyter-widgets/base",
            "_view_module_version": "1.2.0",
            "_view_name": "StyleView",
            "bar_color": null,
            "description_width": ""
          }
        },
        "5aee944447594009936c4beaad2fac73": {
          "model_module": "@jupyter-widgets/base",
          "model_name": "LayoutModel",
          "model_module_version": "1.2.0",
          "state": {
            "_model_module": "@jupyter-widgets/base",
            "_model_module_version": "1.2.0",
            "_model_name": "LayoutModel",
            "_view_count": null,
            "_view_module": "@jupyter-widgets/base",
            "_view_module_version": "1.2.0",
            "_view_name": "LayoutView",
            "align_content": null,
            "align_items": null,
            "align_self": null,
            "border": null,
            "bottom": null,
            "display": null,
            "flex": null,
            "flex_flow": null,
            "grid_area": null,
            "grid_auto_columns": null,
            "grid_auto_flow": null,
            "grid_auto_rows": null,
            "grid_column": null,
            "grid_gap": null,
            "grid_row": null,
            "grid_template_areas": null,
            "grid_template_columns": null,
            "grid_template_rows": null,
            "height": null,
            "justify_content": null,
            "justify_items": null,
            "left": null,
            "margin": null,
            "max_height": null,
            "max_width": null,
            "min_height": null,
            "min_width": null,
            "object_fit": null,
            "object_position": null,
            "order": null,
            "overflow": null,
            "overflow_x": null,
            "overflow_y": null,
            "padding": null,
            "right": null,
            "top": null,
            "visibility": null,
            "width": null
          }
        },
        "2f8e5a68187a4d3d8159252b297f114a": {
          "model_module": "@jupyter-widgets/controls",
          "model_name": "DescriptionStyleModel",
          "model_module_version": "1.5.0",
          "state": {
            "_model_module": "@jupyter-widgets/controls",
            "_model_module_version": "1.5.0",
            "_model_name": "DescriptionStyleModel",
            "_view_count": null,
            "_view_module": "@jupyter-widgets/base",
            "_view_module_version": "1.2.0",
            "_view_name": "StyleView",
            "description_width": ""
          }
        },
        "1e2e5b12ba794a0b8ac0d50d4fd166f3": {
          "model_module": "@jupyter-widgets/controls",
          "model_name": "HBoxModel",
          "model_module_version": "1.5.0",
          "state": {
            "_dom_classes": [],
            "_model_module": "@jupyter-widgets/controls",
            "_model_module_version": "1.5.0",
            "_model_name": "HBoxModel",
            "_view_count": null,
            "_view_module": "@jupyter-widgets/controls",
            "_view_module_version": "1.5.0",
            "_view_name": "HBoxView",
            "box_style": "",
            "children": [
              "IPY_MODEL_74356a6fc1904161b5f0cf74bb50a2a4",
              "IPY_MODEL_52046dc1d62749dd9f55d0e1463557c3",
              "IPY_MODEL_648a1cd311c34de1b216d5e5b1759f0f"
            ],
            "layout": "IPY_MODEL_57fb781d2dfb4d9d830803cfba015c78"
          }
        },
        "74356a6fc1904161b5f0cf74bb50a2a4": {
          "model_module": "@jupyter-widgets/controls",
          "model_name": "HTMLModel",
          "model_module_version": "1.5.0",
          "state": {
            "_dom_classes": [],
            "_model_module": "@jupyter-widgets/controls",
            "_model_module_version": "1.5.0",
            "_model_name": "HTMLModel",
            "_view_count": null,
            "_view_module": "@jupyter-widgets/controls",
            "_view_module_version": "1.5.0",
            "_view_name": "HTMLView",
            "description": "",
            "description_tooltip": null,
            "layout": "IPY_MODEL_57bf004d00ee48ef88f141faf249bc2a",
            "placeholder": "​",
            "style": "IPY_MODEL_14a98f4e6e9b4a5db4ac4d9aeed20f5b",
            "value": "100%"
          }
        },
        "52046dc1d62749dd9f55d0e1463557c3": {
          "model_module": "@jupyter-widgets/controls",
          "model_name": "FloatProgressModel",
          "model_module_version": "1.5.0",
          "state": {
            "_dom_classes": [],
            "_model_module": "@jupyter-widgets/controls",
            "_model_module_version": "1.5.0",
            "_model_name": "FloatProgressModel",
            "_view_count": null,
            "_view_module": "@jupyter-widgets/controls",
            "_view_module_version": "1.5.0",
            "_view_name": "ProgressView",
            "bar_style": "success",
            "description": "",
            "description_tooltip": null,
            "layout": "IPY_MODEL_bd2f5636e6684f12bb1a5eb4db7bc5b9",
            "max": 3,
            "min": 0,
            "orientation": "horizontal",
            "style": "IPY_MODEL_2316c77162fd44d0abd89cfc21a508c7",
            "value": 3
          }
        },
        "648a1cd311c34de1b216d5e5b1759f0f": {
          "model_module": "@jupyter-widgets/controls",
          "model_name": "HTMLModel",
          "model_module_version": "1.5.0",
          "state": {
            "_dom_classes": [],
            "_model_module": "@jupyter-widgets/controls",
            "_model_module_version": "1.5.0",
            "_model_name": "HTMLModel",
            "_view_count": null,
            "_view_module": "@jupyter-widgets/controls",
            "_view_module_version": "1.5.0",
            "_view_name": "HTMLView",
            "description": "",
            "description_tooltip": null,
            "layout": "IPY_MODEL_e654258fe2a44f39889ba84c1a9e4853",
            "placeholder": "​",
            "style": "IPY_MODEL_29790240487b47ceaefe8b4ca4be8e1f",
            "value": " 3/3 [00:00&lt;00:00, 29.42it/s]"
          }
        },
        "57fb781d2dfb4d9d830803cfba015c78": {
          "model_module": "@jupyter-widgets/base",
          "model_name": "LayoutModel",
          "model_module_version": "1.2.0",
          "state": {
            "_model_module": "@jupyter-widgets/base",
            "_model_module_version": "1.2.0",
            "_model_name": "LayoutModel",
            "_view_count": null,
            "_view_module": "@jupyter-widgets/base",
            "_view_module_version": "1.2.0",
            "_view_name": "LayoutView",
            "align_content": null,
            "align_items": null,
            "align_self": null,
            "border": null,
            "bottom": null,
            "display": null,
            "flex": null,
            "flex_flow": null,
            "grid_area": null,
            "grid_auto_columns": null,
            "grid_auto_flow": null,
            "grid_auto_rows": null,
            "grid_column": null,
            "grid_gap": null,
            "grid_row": null,
            "grid_template_areas": null,
            "grid_template_columns": null,
            "grid_template_rows": null,
            "height": null,
            "justify_content": null,
            "justify_items": null,
            "left": null,
            "margin": null,
            "max_height": null,
            "max_width": null,
            "min_height": null,
            "min_width": null,
            "object_fit": null,
            "object_position": null,
            "order": null,
            "overflow": null,
            "overflow_x": null,
            "overflow_y": null,
            "padding": null,
            "right": null,
            "top": null,
            "visibility": null,
            "width": null
          }
        },
        "57bf004d00ee48ef88f141faf249bc2a": {
          "model_module": "@jupyter-widgets/base",
          "model_name": "LayoutModel",
          "model_module_version": "1.2.0",
          "state": {
            "_model_module": "@jupyter-widgets/base",
            "_model_module_version": "1.2.0",
            "_model_name": "LayoutModel",
            "_view_count": null,
            "_view_module": "@jupyter-widgets/base",
            "_view_module_version": "1.2.0",
            "_view_name": "LayoutView",
            "align_content": null,
            "align_items": null,
            "align_self": null,
            "border": null,
            "bottom": null,
            "display": null,
            "flex": null,
            "flex_flow": null,
            "grid_area": null,
            "grid_auto_columns": null,
            "grid_auto_flow": null,
            "grid_auto_rows": null,
            "grid_column": null,
            "grid_gap": null,
            "grid_row": null,
            "grid_template_areas": null,
            "grid_template_columns": null,
            "grid_template_rows": null,
            "height": null,
            "justify_content": null,
            "justify_items": null,
            "left": null,
            "margin": null,
            "max_height": null,
            "max_width": null,
            "min_height": null,
            "min_width": null,
            "object_fit": null,
            "object_position": null,
            "order": null,
            "overflow": null,
            "overflow_x": null,
            "overflow_y": null,
            "padding": null,
            "right": null,
            "top": null,
            "visibility": null,
            "width": null
          }
        },
        "14a98f4e6e9b4a5db4ac4d9aeed20f5b": {
          "model_module": "@jupyter-widgets/controls",
          "model_name": "DescriptionStyleModel",
          "model_module_version": "1.5.0",
          "state": {
            "_model_module": "@jupyter-widgets/controls",
            "_model_module_version": "1.5.0",
            "_model_name": "DescriptionStyleModel",
            "_view_count": null,
            "_view_module": "@jupyter-widgets/base",
            "_view_module_version": "1.2.0",
            "_view_name": "StyleView",
            "description_width": ""
          }
        },
        "bd2f5636e6684f12bb1a5eb4db7bc5b9": {
          "model_module": "@jupyter-widgets/base",
          "model_name": "LayoutModel",
          "model_module_version": "1.2.0",
          "state": {
            "_model_module": "@jupyter-widgets/base",
            "_model_module_version": "1.2.0",
            "_model_name": "LayoutModel",
            "_view_count": null,
            "_view_module": "@jupyter-widgets/base",
            "_view_module_version": "1.2.0",
            "_view_name": "LayoutView",
            "align_content": null,
            "align_items": null,
            "align_self": null,
            "border": null,
            "bottom": null,
            "display": null,
            "flex": null,
            "flex_flow": null,
            "grid_area": null,
            "grid_auto_columns": null,
            "grid_auto_flow": null,
            "grid_auto_rows": null,
            "grid_column": null,
            "grid_gap": null,
            "grid_row": null,
            "grid_template_areas": null,
            "grid_template_columns": null,
            "grid_template_rows": null,
            "height": null,
            "justify_content": null,
            "justify_items": null,
            "left": null,
            "margin": null,
            "max_height": null,
            "max_width": null,
            "min_height": null,
            "min_width": null,
            "object_fit": null,
            "object_position": null,
            "order": null,
            "overflow": null,
            "overflow_x": null,
            "overflow_y": null,
            "padding": null,
            "right": null,
            "top": null,
            "visibility": null,
            "width": null
          }
        },
        "2316c77162fd44d0abd89cfc21a508c7": {
          "model_module": "@jupyter-widgets/controls",
          "model_name": "ProgressStyleModel",
          "model_module_version": "1.5.0",
          "state": {
            "_model_module": "@jupyter-widgets/controls",
            "_model_module_version": "1.5.0",
            "_model_name": "ProgressStyleModel",
            "_view_count": null,
            "_view_module": "@jupyter-widgets/base",
            "_view_module_version": "1.2.0",
            "_view_name": "StyleView",
            "bar_color": null,
            "description_width": ""
          }
        },
        "e654258fe2a44f39889ba84c1a9e4853": {
          "model_module": "@jupyter-widgets/base",
          "model_name": "LayoutModel",
          "model_module_version": "1.2.0",
          "state": {
            "_model_module": "@jupyter-widgets/base",
            "_model_module_version": "1.2.0",
            "_model_name": "LayoutModel",
            "_view_count": null,
            "_view_module": "@jupyter-widgets/base",
            "_view_module_version": "1.2.0",
            "_view_name": "LayoutView",
            "align_content": null,
            "align_items": null,
            "align_self": null,
            "border": null,
            "bottom": null,
            "display": null,
            "flex": null,
            "flex_flow": null,
            "grid_area": null,
            "grid_auto_columns": null,
            "grid_auto_flow": null,
            "grid_auto_rows": null,
            "grid_column": null,
            "grid_gap": null,
            "grid_row": null,
            "grid_template_areas": null,
            "grid_template_columns": null,
            "grid_template_rows": null,
            "height": null,
            "justify_content": null,
            "justify_items": null,
            "left": null,
            "margin": null,
            "max_height": null,
            "max_width": null,
            "min_height": null,
            "min_width": null,
            "object_fit": null,
            "object_position": null,
            "order": null,
            "overflow": null,
            "overflow_x": null,
            "overflow_y": null,
            "padding": null,
            "right": null,
            "top": null,
            "visibility": null,
            "width": null
          }
        },
        "29790240487b47ceaefe8b4ca4be8e1f": {
          "model_module": "@jupyter-widgets/controls",
          "model_name": "DescriptionStyleModel",
          "model_module_version": "1.5.0",
          "state": {
            "_model_module": "@jupyter-widgets/controls",
            "_model_module_version": "1.5.0",
            "_model_name": "DescriptionStyleModel",
            "_view_count": null,
            "_view_module": "@jupyter-widgets/base",
            "_view_module_version": "1.2.0",
            "_view_name": "StyleView",
            "description_width": ""
          }
        }
      }
    }
  },
  "cells": [
    {
      "cell_type": "markdown",
      "source": [
        "## Using embeddings for semantic search\n",
        "\n",
        "In this notebook, we will utilize embeddings to build a semantic search engine."
      ],
      "metadata": {
        "id": "iGM9irVOk0FU"
      }
    },
    {
      "cell_type": "markdown",
      "source": [
        "## Loading and Preparing dataset"
      ],
      "metadata": {
        "id": "Ye4tZ8mdlWGO"
      }
    },
    {
      "cell_type": "code",
      "execution_count": 2,
      "metadata": {
        "id": "UFAcLMt2kqot"
      },
      "outputs": [],
      "source": [
        "# load dataset\n",
        "from datasets import load_dataset"
      ]
    },
    {
      "cell_type": "markdown",
      "source": [
        "The **GitHub Issues** dataset contains issues and pull requests associated with the 🤗 **Datasets** repository. It is designed for educational use and can support tasks such as **semantic search** and **multilabel text classification**. The dataset provides a rich resource of English-language GitHub issues, focusing on the domain of **datasets** for **NLP**, **computer vision**, and related fields.\n",
        "\n",
        "### Dataset Information:\n",
        "- **Name**: GitHub Issues\n",
        "- **Repository**: [🤗 Datasets GitHub Repo](https://github.com/huggingface/datasets)\n",
        "- **Use Cases**: Semantic search, multilabel text classification\n",
        "- **Domain**: Datasets for NLP, computer vision, and beyond\n",
        "- **Language**: English\n",
        "\n",
        "For more details and to access the dataset, visit the official repository:\n",
        "- [🤗 GitHub Issues Dataset](https://huggingface.co/datasets/github-issues) on Hugging Face.\n",
        "\n",
        "This dataset is an excellent resource for those interested in machine learning tasks related to **text analysis** in the context of real-world GitHub issues and pull requests."
      ],
      "metadata": {
        "id": "CKn-8yMe6UPk"
      }
    },
    {
      "cell_type": "code",
      "source": [
        "dataset = load_dataset('lewtun/github-issues', split='train')"
      ],
      "metadata": {
        "colab": {
          "base_uri": "https://localhost:8080/"
        },
        "id": "JOH6ypzqlhiz",
        "outputId": "46be8722-c503-4fbc-8867-b203aa1adeb0"
      },
      "execution_count": 3,
      "outputs": [
        {
          "output_type": "stream",
          "name": "stderr",
          "text": [
            "/usr/local/lib/python3.10/dist-packages/huggingface_hub/utils/_token.py:89: UserWarning: \n",
            "The secret `HF_TOKEN` does not exist in your Colab secrets.\n",
            "To authenticate with the Hugging Face Hub, create a token in your settings tab (https://huggingface.co/settings/tokens), set it as secret in your Google Colab and restart your session.\n",
            "You will be able to reuse this secret in all of your notebooks.\n",
            "Please note that authentication is recommended but still optional to access public models or datasets.\n",
            "  warnings.warn(\n",
            "Repo card metadata block was not found. Setting CardData to empty.\n",
            "WARNING:huggingface_hub.repocard:Repo card metadata block was not found. Setting CardData to empty.\n"
          ]
        }
      ]
    },
    {
      "cell_type": "code",
      "source": [
        "dataset"
      ],
      "metadata": {
        "colab": {
          "base_uri": "https://localhost:8080/"
        },
        "id": "U0oYNqyLlveH",
        "outputId": "583a189e-31d4-4c40-e6a6-ba45405cadd0"
      },
      "execution_count": 4,
      "outputs": [
        {
          "output_type": "execute_result",
          "data": {
            "text/plain": [
              "Dataset({\n",
              "    features: ['url', 'repository_url', 'labels_url', 'comments_url', 'events_url', 'html_url', 'id', 'node_id', 'number', 'title', 'user', 'labels', 'state', 'locked', 'assignee', 'assignees', 'milestone', 'comments', 'created_at', 'updated_at', 'closed_at', 'author_association', 'active_lock_reason', 'pull_request', 'body', 'timeline_url', 'performed_via_github_app', 'is_pull_request'],\n",
              "    num_rows: 3019\n",
              "})"
            ]
          },
          "metadata": {},
          "execution_count": 4
        }
      ]
    },
    {
      "cell_type": "markdown",
      "source": [
        "First thing we do is to filter out pull requests as they tend to be rarely used for answering user queries and intrdcue noise in our dataset.\n",
        "\n",
        "For that purpose, we will use `Dataset.filter()` method."
      ],
      "metadata": {
        "id": "C6d6uHkgl6m5"
      }
    },
    {
      "cell_type": "code",
      "source": [
        "revised_dataset = dataset.filter(\n",
        "    lambda x: (x['is_pull_request'] == False and len(x[\"comments\"]) > 0)\n",
        ")"
      ],
      "metadata": {
        "id": "owu8vMI_lxpk"
      },
      "execution_count": 5,
      "outputs": []
    },
    {
      "cell_type": "code",
      "source": [
        "revised_dataset"
      ],
      "metadata": {
        "colab": {
          "base_uri": "https://localhost:8080/"
        },
        "id": "pIK1EtM3mdO2",
        "outputId": "62f8a804-ea42-4304-e169-e89a484c479f"
      },
      "execution_count": 6,
      "outputs": [
        {
          "output_type": "execute_result",
          "data": {
            "text/plain": [
              "Dataset({\n",
              "    features: ['url', 'repository_url', 'labels_url', 'comments_url', 'events_url', 'html_url', 'id', 'node_id', 'number', 'title', 'user', 'labels', 'state', 'locked', 'assignee', 'assignees', 'milestone', 'comments', 'created_at', 'updated_at', 'closed_at', 'author_association', 'active_lock_reason', 'pull_request', 'body', 'timeline_url', 'performed_via_github_app', 'is_pull_request'],\n",
              "    num_rows: 808\n",
              "})"
            ]
          },
          "metadata": {},
          "execution_count": 6
        }
      ]
    },
    {
      "cell_type": "markdown",
      "source": [
        "We also see that thare are many columns in our dataset that not informative and henece we need to drop them. From serach engine perspective, most informative columns are `title`, `body`, `comments` and `html_url`.\n",
        "\n",
        "Let's utilize `Dataset.remove_columns()` function to drop the rest:"
      ],
      "metadata": {
        "id": "36FcZ7A0mjOg"
      }
    },
    {
      "cell_type": "code",
      "source": [
        "columns = revised_dataset.column_names\n",
        "columns"
      ],
      "metadata": {
        "colab": {
          "base_uri": "https://localhost:8080/"
        },
        "id": "rs_UIlCqmenl",
        "outputId": "2257b2ae-db21-4297-eec0-db2b0ce806d9"
      },
      "execution_count": 7,
      "outputs": [
        {
          "output_type": "execute_result",
          "data": {
            "text/plain": [
              "['url',\n",
              " 'repository_url',\n",
              " 'labels_url',\n",
              " 'comments_url',\n",
              " 'events_url',\n",
              " 'html_url',\n",
              " 'id',\n",
              " 'node_id',\n",
              " 'number',\n",
              " 'title',\n",
              " 'user',\n",
              " 'labels',\n",
              " 'state',\n",
              " 'locked',\n",
              " 'assignee',\n",
              " 'assignees',\n",
              " 'milestone',\n",
              " 'comments',\n",
              " 'created_at',\n",
              " 'updated_at',\n",
              " 'closed_at',\n",
              " 'author_association',\n",
              " 'active_lock_reason',\n",
              " 'pull_request',\n",
              " 'body',\n",
              " 'timeline_url',\n",
              " 'performed_via_github_app',\n",
              " 'is_pull_request']"
            ]
          },
          "metadata": {},
          "execution_count": 7
        }
      ]
    },
    {
      "cell_type": "code",
      "source": [
        "columns_to_keep = [\"title\", \"body\", \"html_url\", \"comments\"]\n",
        "columns_to_keep"
      ],
      "metadata": {
        "colab": {
          "base_uri": "https://localhost:8080/"
        },
        "id": "aAlt788YnHLn",
        "outputId": "862d36c1-6838-481c-d49f-5c9bb93482bb"
      },
      "execution_count": 8,
      "outputs": [
        {
          "output_type": "execute_result",
          "data": {
            "text/plain": [
              "['title', 'body', 'html_url', 'comments']"
            ]
          },
          "metadata": {},
          "execution_count": 8
        }
      ]
    },
    {
      "cell_type": "code",
      "source": [
        "columns_to_remove = set(columns_to_keep).symmetric_difference(columns)\n",
        "columns_to_remove"
      ],
      "metadata": {
        "colab": {
          "base_uri": "https://localhost:8080/"
        },
        "id": "mwZdsjNZnQmW",
        "outputId": "c042f5a6-2c1d-4281-ba7e-00142d1657a0"
      },
      "execution_count": 9,
      "outputs": [
        {
          "output_type": "execute_result",
          "data": {
            "text/plain": [
              "{'active_lock_reason',\n",
              " 'assignee',\n",
              " 'assignees',\n",
              " 'author_association',\n",
              " 'closed_at',\n",
              " 'comments_url',\n",
              " 'created_at',\n",
              " 'events_url',\n",
              " 'id',\n",
              " 'is_pull_request',\n",
              " 'labels',\n",
              " 'labels_url',\n",
              " 'locked',\n",
              " 'milestone',\n",
              " 'node_id',\n",
              " 'number',\n",
              " 'performed_via_github_app',\n",
              " 'pull_request',\n",
              " 'repository_url',\n",
              " 'state',\n",
              " 'timeline_url',\n",
              " 'updated_at',\n",
              " 'url',\n",
              " 'user'}"
            ]
          },
          "metadata": {},
          "execution_count": 9
        }
      ]
    },
    {
      "cell_type": "code",
      "source": [
        "revised_dataset = revised_dataset.remove_columns(column_names=columns_to_remove)\n",
        "revised_dataset"
      ],
      "metadata": {
        "colab": {
          "base_uri": "https://localhost:8080/"
        },
        "id": "Wu-gjDKcnXO0",
        "outputId": "fc304793-9280-413a-d987-ac222233847c"
      },
      "execution_count": 10,
      "outputs": [
        {
          "output_type": "execute_result",
          "data": {
            "text/plain": [
              "Dataset({\n",
              "    features: ['html_url', 'title', 'comments', 'body'],\n",
              "    num_rows: 808\n",
              "})"
            ]
          },
          "metadata": {},
          "execution_count": 10
        }
      ]
    },
    {
      "cell_type": "markdown",
      "source": [
        "To create our embeddings we’ll augment each comment with the issue’s title and body, since these fields often include useful contextual information.\n",
        "\n",
        "for this purpose, we will use Pandas `DataFrame.explode()` funtion."
      ],
      "metadata": {
        "id": "twqAmYuDnuif"
      }
    },
    {
      "cell_type": "code",
      "source": [
        "revised_dataset.set_format(\"pandas\")\n",
        "df = revised_dataset[:]"
      ],
      "metadata": {
        "id": "2QTgwky4nhXE"
      },
      "execution_count": 11,
      "outputs": []
    },
    {
      "cell_type": "markdown",
      "source": [
        "If we explore first row in our datset, we can see that tehere are two comments associated with the issue:"
      ],
      "metadata": {
        "id": "AOjy-b8VoApy"
      }
    },
    {
      "cell_type": "code",
      "source": [
        "df[\"comments\"][0].tolist()"
      ],
      "metadata": {
        "colab": {
          "base_uri": "https://localhost:8080/"
        },
        "id": "GThlo5X0n-62",
        "outputId": "c838605d-d475-4010-a539-c4118f213fbd"
      },
      "execution_count": 12,
      "outputs": [
        {
          "output_type": "execute_result",
          "data": {
            "text/plain": [
              "['Cool, I think we can do both :)',\n",
              " '@lhoestq now the 2 are implemented.\\r\\n\\r\\nPlease note that for the the second protection, finally I have chosen to protect the master branch only from **merge commits** (see update comment above), so no need to disable/re-enable the protection on each release (direct commits, different from merge commits, can be pushed to the remote master branch; and eventually reverted without messing up the repo history).']"
            ]
          },
          "metadata": {},
          "execution_count": 12
        }
      ]
    },
    {
      "cell_type": "markdown",
      "source": [
        "When we explode `df`, we will get one row for each commemnt. Let's see:"
      ],
      "metadata": {
        "id": "NVHVW9lkoXFj"
      }
    },
    {
      "cell_type": "code",
      "source": [
        "comments_df = df.explode(\"comments\", ignore_index=True)\n",
        "comments_df.head(2)"
      ],
      "metadata": {
        "colab": {
          "base_uri": "https://localhost:8080/",
          "height": 112
        },
        "id": "pWrg5YksoLrP",
        "outputId": "1b4a4f24-2671-4697-dcb5-f2280f1a1d1a"
      },
      "execution_count": 13,
      "outputs": [
        {
          "output_type": "execute_result",
          "data": {
            "text/plain": [
              "                                            html_url                  title  \\\n",
              "0  https://github.com/huggingface/datasets/issues...  Protect master branch   \n",
              "1  https://github.com/huggingface/datasets/issues...  Protect master branch   \n",
              "\n",
              "                                            comments  \\\n",
              "0                    Cool, I think we can do both :)   \n",
              "1  @lhoestq now the 2 are implemented.\\r\\n\\r\\nPle...   \n",
              "\n",
              "                                                body  \n",
              "0  After accidental merge commit (91c55355b634d0d...  \n",
              "1  After accidental merge commit (91c55355b634d0d...  "
            ],
            "text/html": [
              "\n",
              "  <div id=\"df-99251030-c309-4bfd-98fe-a0512718cdd7\" class=\"colab-df-container\">\n",
              "    <div>\n",
              "<style scoped>\n",
              "    .dataframe tbody tr th:only-of-type {\n",
              "        vertical-align: middle;\n",
              "    }\n",
              "\n",
              "    .dataframe tbody tr th {\n",
              "        vertical-align: top;\n",
              "    }\n",
              "\n",
              "    .dataframe thead th {\n",
              "        text-align: right;\n",
              "    }\n",
              "</style>\n",
              "<table border=\"1\" class=\"dataframe\">\n",
              "  <thead>\n",
              "    <tr style=\"text-align: right;\">\n",
              "      <th></th>\n",
              "      <th>html_url</th>\n",
              "      <th>title</th>\n",
              "      <th>comments</th>\n",
              "      <th>body</th>\n",
              "    </tr>\n",
              "  </thead>\n",
              "  <tbody>\n",
              "    <tr>\n",
              "      <th>0</th>\n",
              "      <td>https://github.com/huggingface/datasets/issues...</td>\n",
              "      <td>Protect master branch</td>\n",
              "      <td>Cool, I think we can do both :)</td>\n",
              "      <td>After accidental merge commit (91c55355b634d0d...</td>\n",
              "    </tr>\n",
              "    <tr>\n",
              "      <th>1</th>\n",
              "      <td>https://github.com/huggingface/datasets/issues...</td>\n",
              "      <td>Protect master branch</td>\n",
              "      <td>@lhoestq now the 2 are implemented.\\r\\n\\r\\nPle...</td>\n",
              "      <td>After accidental merge commit (91c55355b634d0d...</td>\n",
              "    </tr>\n",
              "  </tbody>\n",
              "</table>\n",
              "</div>\n",
              "    <div class=\"colab-df-buttons\">\n",
              "\n",
              "  <div class=\"colab-df-container\">\n",
              "    <button class=\"colab-df-convert\" onclick=\"convertToInteractive('df-99251030-c309-4bfd-98fe-a0512718cdd7')\"\n",
              "            title=\"Convert this dataframe to an interactive table.\"\n",
              "            style=\"display:none;\">\n",
              "\n",
              "  <svg xmlns=\"http://www.w3.org/2000/svg\" height=\"24px\" viewBox=\"0 -960 960 960\">\n",
              "    <path d=\"M120-120v-720h720v720H120Zm60-500h600v-160H180v160Zm220 220h160v-160H400v160Zm0 220h160v-160H400v160ZM180-400h160v-160H180v160Zm440 0h160v-160H620v160ZM180-180h160v-160H180v160Zm440 0h160v-160H620v160Z\"/>\n",
              "  </svg>\n",
              "    </button>\n",
              "\n",
              "  <style>\n",
              "    .colab-df-container {\n",
              "      display:flex;\n",
              "      gap: 12px;\n",
              "    }\n",
              "\n",
              "    .colab-df-convert {\n",
              "      background-color: #E8F0FE;\n",
              "      border: none;\n",
              "      border-radius: 50%;\n",
              "      cursor: pointer;\n",
              "      display: none;\n",
              "      fill: #1967D2;\n",
              "      height: 32px;\n",
              "      padding: 0 0 0 0;\n",
              "      width: 32px;\n",
              "    }\n",
              "\n",
              "    .colab-df-convert:hover {\n",
              "      background-color: #E2EBFA;\n",
              "      box-shadow: 0px 1px 2px rgba(60, 64, 67, 0.3), 0px 1px 3px 1px rgba(60, 64, 67, 0.15);\n",
              "      fill: #174EA6;\n",
              "    }\n",
              "\n",
              "    .colab-df-buttons div {\n",
              "      margin-bottom: 4px;\n",
              "    }\n",
              "\n",
              "    [theme=dark] .colab-df-convert {\n",
              "      background-color: #3B4455;\n",
              "      fill: #D2E3FC;\n",
              "    }\n",
              "\n",
              "    [theme=dark] .colab-df-convert:hover {\n",
              "      background-color: #434B5C;\n",
              "      box-shadow: 0px 1px 3px 1px rgba(0, 0, 0, 0.15);\n",
              "      filter: drop-shadow(0px 1px 2px rgba(0, 0, 0, 0.3));\n",
              "      fill: #FFFFFF;\n",
              "    }\n",
              "  </style>\n",
              "\n",
              "    <script>\n",
              "      const buttonEl =\n",
              "        document.querySelector('#df-99251030-c309-4bfd-98fe-a0512718cdd7 button.colab-df-convert');\n",
              "      buttonEl.style.display =\n",
              "        google.colab.kernel.accessAllowed ? 'block' : 'none';\n",
              "\n",
              "      async function convertToInteractive(key) {\n",
              "        const element = document.querySelector('#df-99251030-c309-4bfd-98fe-a0512718cdd7');\n",
              "        const dataTable =\n",
              "          await google.colab.kernel.invokeFunction('convertToInteractive',\n",
              "                                                    [key], {});\n",
              "        if (!dataTable) return;\n",
              "\n",
              "        const docLinkHtml = 'Like what you see? Visit the ' +\n",
              "          '<a target=\"_blank\" href=https://colab.research.google.com/notebooks/data_table.ipynb>data table notebook</a>'\n",
              "          + ' to learn more about interactive tables.';\n",
              "        element.innerHTML = '';\n",
              "        dataTable['output_type'] = 'display_data';\n",
              "        await google.colab.output.renderOutput(dataTable, element);\n",
              "        const docLink = document.createElement('div');\n",
              "        docLink.innerHTML = docLinkHtml;\n",
              "        element.appendChild(docLink);\n",
              "      }\n",
              "    </script>\n",
              "  </div>\n",
              "\n",
              "\n",
              "<div id=\"df-5b53294c-796e-4367-8e8c-ebaa37b8810c\">\n",
              "  <button class=\"colab-df-quickchart\" onclick=\"quickchart('df-5b53294c-796e-4367-8e8c-ebaa37b8810c')\"\n",
              "            title=\"Suggest charts\"\n",
              "            style=\"display:none;\">\n",
              "\n",
              "<svg xmlns=\"http://www.w3.org/2000/svg\" height=\"24px\"viewBox=\"0 0 24 24\"\n",
              "     width=\"24px\">\n",
              "    <g>\n",
              "        <path d=\"M19 3H5c-1.1 0-2 .9-2 2v14c0 1.1.9 2 2 2h14c1.1 0 2-.9 2-2V5c0-1.1-.9-2-2-2zM9 17H7v-7h2v7zm4 0h-2V7h2v10zm4 0h-2v-4h2v4z\"/>\n",
              "    </g>\n",
              "</svg>\n",
              "  </button>\n",
              "\n",
              "<style>\n",
              "  .colab-df-quickchart {\n",
              "      --bg-color: #E8F0FE;\n",
              "      --fill-color: #1967D2;\n",
              "      --hover-bg-color: #E2EBFA;\n",
              "      --hover-fill-color: #174EA6;\n",
              "      --disabled-fill-color: #AAA;\n",
              "      --disabled-bg-color: #DDD;\n",
              "  }\n",
              "\n",
              "  [theme=dark] .colab-df-quickchart {\n",
              "      --bg-color: #3B4455;\n",
              "      --fill-color: #D2E3FC;\n",
              "      --hover-bg-color: #434B5C;\n",
              "      --hover-fill-color: #FFFFFF;\n",
              "      --disabled-bg-color: #3B4455;\n",
              "      --disabled-fill-color: #666;\n",
              "  }\n",
              "\n",
              "  .colab-df-quickchart {\n",
              "    background-color: var(--bg-color);\n",
              "    border: none;\n",
              "    border-radius: 50%;\n",
              "    cursor: pointer;\n",
              "    display: none;\n",
              "    fill: var(--fill-color);\n",
              "    height: 32px;\n",
              "    padding: 0;\n",
              "    width: 32px;\n",
              "  }\n",
              "\n",
              "  .colab-df-quickchart:hover {\n",
              "    background-color: var(--hover-bg-color);\n",
              "    box-shadow: 0 1px 2px rgba(60, 64, 67, 0.3), 0 1px 3px 1px rgba(60, 64, 67, 0.15);\n",
              "    fill: var(--button-hover-fill-color);\n",
              "  }\n",
              "\n",
              "  .colab-df-quickchart-complete:disabled,\n",
              "  .colab-df-quickchart-complete:disabled:hover {\n",
              "    background-color: var(--disabled-bg-color);\n",
              "    fill: var(--disabled-fill-color);\n",
              "    box-shadow: none;\n",
              "  }\n",
              "\n",
              "  .colab-df-spinner {\n",
              "    border: 2px solid var(--fill-color);\n",
              "    border-color: transparent;\n",
              "    border-bottom-color: var(--fill-color);\n",
              "    animation:\n",
              "      spin 1s steps(1) infinite;\n",
              "  }\n",
              "\n",
              "  @keyframes spin {\n",
              "    0% {\n",
              "      border-color: transparent;\n",
              "      border-bottom-color: var(--fill-color);\n",
              "      border-left-color: var(--fill-color);\n",
              "    }\n",
              "    20% {\n",
              "      border-color: transparent;\n",
              "      border-left-color: var(--fill-color);\n",
              "      border-top-color: var(--fill-color);\n",
              "    }\n",
              "    30% {\n",
              "      border-color: transparent;\n",
              "      border-left-color: var(--fill-color);\n",
              "      border-top-color: var(--fill-color);\n",
              "      border-right-color: var(--fill-color);\n",
              "    }\n",
              "    40% {\n",
              "      border-color: transparent;\n",
              "      border-right-color: var(--fill-color);\n",
              "      border-top-color: var(--fill-color);\n",
              "    }\n",
              "    60% {\n",
              "      border-color: transparent;\n",
              "      border-right-color: var(--fill-color);\n",
              "    }\n",
              "    80% {\n",
              "      border-color: transparent;\n",
              "      border-right-color: var(--fill-color);\n",
              "      border-bottom-color: var(--fill-color);\n",
              "    }\n",
              "    90% {\n",
              "      border-color: transparent;\n",
              "      border-bottom-color: var(--fill-color);\n",
              "    }\n",
              "  }\n",
              "</style>\n",
              "\n",
              "  <script>\n",
              "    async function quickchart(key) {\n",
              "      const quickchartButtonEl =\n",
              "        document.querySelector('#' + key + ' button');\n",
              "      quickchartButtonEl.disabled = true;  // To prevent multiple clicks.\n",
              "      quickchartButtonEl.classList.add('colab-df-spinner');\n",
              "      try {\n",
              "        const charts = await google.colab.kernel.invokeFunction(\n",
              "            'suggestCharts', [key], {});\n",
              "      } catch (error) {\n",
              "        console.error('Error during call to suggestCharts:', error);\n",
              "      }\n",
              "      quickchartButtonEl.classList.remove('colab-df-spinner');\n",
              "      quickchartButtonEl.classList.add('colab-df-quickchart-complete');\n",
              "    }\n",
              "    (() => {\n",
              "      let quickchartButtonEl =\n",
              "        document.querySelector('#df-5b53294c-796e-4367-8e8c-ebaa37b8810c button');\n",
              "      quickchartButtonEl.style.display =\n",
              "        google.colab.kernel.accessAllowed ? 'block' : 'none';\n",
              "    })();\n",
              "  </script>\n",
              "</div>\n",
              "\n",
              "    </div>\n",
              "  </div>\n"
            ],
            "application/vnd.google.colaboratory.intrinsic+json": {
              "type": "dataframe",
              "variable_name": "comments_df",
              "summary": "{\n  \"name\": \"comments_df\",\n  \"rows\": 2964,\n  \"fields\": [\n    {\n      \"column\": \"html_url\",\n      \"properties\": {\n        \"dtype\": \"category\",\n        \"num_unique_values\": 781,\n        \"samples\": [\n          \"https://github.com/huggingface/datasets/issues/615\",\n          \"https://github.com/huggingface/datasets/issues/629\",\n          \"https://github.com/huggingface/datasets/issues/752\"\n        ],\n        \"semantic_type\": \"\",\n        \"description\": \"\"\n      }\n    },\n    {\n      \"column\": \"title\",\n      \"properties\": {\n        \"dtype\": \"category\",\n        \"num_unique_values\": 780,\n        \"samples\": [\n          \"ArrowCapacityError: List array cannot contain more than 2147483646 child elements, have 2147483648\",\n          \"dtype of tensors should be preserved\",\n          \"Error loading ms_marco v2.1 using load_dataset()\"\n        ],\n        \"semantic_type\": \"\",\n        \"description\": \"\"\n      }\n    },\n    {\n      \"column\": \"comments\",\n      \"properties\": {\n        \"dtype\": \"string\",\n        \"num_unique_values\": 2882,\n        \"samples\": [\n          \"cc @beurkinger but I think this has been fixed internally and will soon be updated right ?\",\n          \"Sorry, this is a duplicate of #1287. Not sure why it didn't come up when I searched `iwslt` in the issues list.\",\n          \"You can update the json file by calling\\r\\n```\\r\\nnlp-cli test ./datasets/xtreme --save_infos --all_configs\\r\\n```\"\n        ],\n        \"semantic_type\": \"\",\n        \"description\": \"\"\n      }\n    },\n    {\n      \"column\": \"body\",\n      \"properties\": {\n        \"dtype\": \"category\",\n        \"num_unique_values\": 778,\n        \"samples\": [\n          \"Hi, I'm trying to load a dataset from Dataframe, but I get the error:\\r\\n```bash\\r\\n---------------------------------------------------------------------------\\r\\nArrowCapacityError                        Traceback (most recent call last)\\r\\n<ipython-input-7-146b6b495963> in <module>\\r\\n----> 1 dataset = Dataset.from_pandas(emb)\\r\\n\\r\\n~/miniconda3/envs/dev/lib/python3.7/site-packages/nlp/arrow_dataset.py in from_pandas(cls, df, features, info, split)\\r\\n    223         info.features = features\\r\\n    224         pa_table: pa.Table = pa.Table.from_pandas(\\r\\n--> 225             df=df, schema=pa.schema(features.type) if features is not None else None\\r\\n    226         )\\r\\n    227         return cls(pa_table, info=info, split=split)\\r\\n\\r\\n~/miniconda3/envs/dev/lib/python3.7/site-packages/pyarrow/table.pxi in pyarrow.lib.Table.from_pandas()\\r\\n\\r\\n~/miniconda3/envs/dev/lib/python3.7/site-packages/pyarrow/pandas_compat.py in dataframe_to_arrays(df, schema, preserve_index, nthreads, columns, safe)\\r\\n    591         for i, maybe_fut in enumerate(arrays):\\r\\n    592             if isinstance(maybe_fut, futures.Future):\\r\\n--> 593                 arrays[i] = maybe_fut.result()\\r\\n    594 \\r\\n    595     types = [x.type for x in arrays]\\r\\n\\r\\n~/miniconda3/envs/dev/lib/python3.7/concurrent/futures/_base.py in result(self, timeout)\\r\\n    426                 raise CancelledError()\\r\\n    427             elif self._state == FINISHED:\\r\\n--> 428                 return self.__get_result()\\r\\n    429 \\r\\n    430             self._condition.wait(timeout)\\r\\n\\r\\n~/miniconda3/envs/dev/lib/python3.7/concurrent/futures/_base.py in __get_result(self)\\r\\n    382     def __get_result(self):\\r\\n    383         if self._exception:\\r\\n--> 384             raise self._exception\\r\\n    385         else:\\r\\n    386             return self._result\\r\\n\\r\\n~/miniconda3/envs/dev/lib/python3.7/concurrent/futures/thread.py in run(self)\\r\\n     55 \\r\\n     56         try:\\r\\n---> 57             result = self.fn(*self.args, **self.kwargs)\\r\\n     58         except BaseException as exc:\\r\\n     59             self.future.set_exception(exc)\\r\\n\\r\\n~/miniconda3/envs/dev/lib/python3.7/site-packages/pyarrow/pandas_compat.py in convert_column(col, field)\\r\\n    557 \\r\\n    558         try:\\r\\n--> 559             result = pa.array(col, type=type_, from_pandas=True, safe=safe)\\r\\n    560         except (pa.ArrowInvalid,\\r\\n    561                 pa.ArrowNotImplementedError,\\r\\n\\r\\n~/miniconda3/envs/dev/lib/python3.7/site-packages/pyarrow/array.pxi in pyarrow.lib.array()\\r\\n\\r\\n~/miniconda3/envs/dev/lib/python3.7/site-packages/pyarrow/array.pxi in pyarrow.lib._ndarray_to_array()\\r\\n\\r\\n~/miniconda3/envs/dev/lib/python3.7/site-packages/pyarrow/error.pxi in pyarrow.lib.check_status()\\r\\n\\r\\nArrowCapacityError: List array cannot contain more than 2147483646 child elements, have 2147483648\\r\\n```\\r\\nMy code is :\\r\\n```python\\r\\nfrom nlp import Dataset\\r\\ndataset = Dataset.from_pandas(emb)\\r\\n```\",\n          \"After switching to `datasets` my model just broke. After a weekend of debugging, the issue was that my model could not handle the double that the Dataset provided, as it expected a float (but didn't give a warning, which seems a [PyTorch issue](https://discuss.pytorch.org/t/is-it-required-that-input-and-hidden-for-gru-have-the-same-dtype-float32/96221)). \\r\\n\\r\\nAs a user I did not expect this bug. I have a `map` function that I call on the Dataset that looks like this:\\r\\n\\r\\n```python\\r\\ndef preprocess(sentences: List[str]):\\r\\n    token_ids = [[vocab.to_index(t) for t in s.split()] for s in sentences]\\r\\n\\r\\n    sembeddings = stransformer.encode(sentences)\\r\\n    print(sembeddings.dtype)\\r\\n    return {\\\"input_ids\\\": token_ids, \\\"sembedding\\\": sembeddings}\\r\\n```\\r\\n\\r\\nGiven a list of `sentences` (`List[str]`), it converts those into token_ids on the one hand (list of lists of ints; `List[List[int]]`) and into sentence embeddings on the other (Tensor of dtype `torch.float32`). That means that I actually set the column \\\"sembedding\\\" to a tensor that I as a user expect to be a float32.\\r\\n\\r\\nIt appears though that behind the scenes, this tensor is converted into a **list**. I did not find this documented anywhere but I might have missed it. From a user's perspective this is incredibly important though, because it means you cannot do any data_type or tensor casting yourself in a mapping function! Furthermore, this can lead to issues, as was my case. \\r\\n\\r\\nMy model expected float32 precision, which I thought `sembedding` was because that is what `stransformer.encode` outputs. But behind the scenes this tensor is first cast to a list, and when we then set its format, as below, this column is cast not to float32 but to double precision float64.\\r\\n\\r\\n```python\\r\\ndataset.set_format(type=\\\"torch\\\", columns=[\\\"input_ids\\\", \\\"sembedding\\\"])\\r\\n```\\r\\n\\r\\nThis happens because apparently there is an intermediate step of casting to a **numpy** array (?) **whose dtype creation/deduction is different from torch dtypes** (see the snippet below).  As you can see, this means that the dtype is not preserved: if I got it right, the dataset goes from torch.float32 -> list -> float64 (numpy) -> torch.float64. \\r\\n\\r\\n```python\\r\\nimport torch\\r\\nimport numpy as np\\r\\n\\r\\nl = [-0.03010837361216545, -0.035979013890028, -0.016949838027358055]\\r\\ntorch_tensor = torch.tensor(l)\\r\\nnp_array = np.array(l)\\r\\nnp_to_torch = torch.from_numpy(np_array)\\r\\n\\r\\nprint(torch_tensor.dtype)\\r\\n# torch.float32\\r\\nprint(np_array.dtype)\\r\\n# float64\\r\\nprint(np_to_torch.dtype)\\r\\n# torch.float64\\r\\n```\\r\\n\\r\\nThis might lead to unwanted behaviour. I understand that the whole library is probably built around casting from numpy to other frameworks, so this might be difficult to solve. Perhaps `set_format` should include a `dtypes` option where for each input column the user can specify the wanted precision.\\r\\n\\r\\nThe alternative is that the user needs to cast manually after loading data from the dataset but that does not seem user-friendly, makes the dataset less portable, and might use more space in memory as well as on disk than is actually needed.\",\n          \"Code:\\r\\n`dataset = load_dataset('ms_marco', 'v2.1')`\\r\\n\\r\\nError:\\r\\n```\\r\\n`---------------------------------------------------------------------------\\r\\nJSONDecodeError                           Traceback (most recent call last)\\r\\n<ipython-input-16-34378c057212> in <module>()\\r\\n      9 \\r\\n     10 # Downloading and loading a dataset\\r\\n---> 11 dataset = load_dataset('ms_marco', 'v2.1')\\r\\n\\r\\n10 frames\\r\\n/usr/lib/python3.6/json/decoder.py in raw_decode(self, s, idx)\\r\\n    353         \\\"\\\"\\\"\\r\\n    354         try:\\r\\n--> 355             obj, end = self.scan_once(s, idx)\\r\\n    356         except StopIteration as err:\\r\\n    357             raise JSONDecodeError(\\\"Expecting value\\\", s, err.value) from None\\r\\n\\r\\nJSONDecodeError: Unterminated string starting at: line 1 column 388988661 (char 388988660)\\r\\n`\\r\\n```\"\n        ],\n        \"semantic_type\": \"\",\n        \"description\": \"\"\n      }\n    }\n  ]\n}"
            }
          },
          "metadata": {},
          "execution_count": 13
        }
      ]
    },
    {
      "cell_type": "markdown",
      "source": [
        "Next, we will load `DataFrame` in memory:"
      ],
      "metadata": {
        "id": "cFdzHws6ou9U"
      }
    },
    {
      "cell_type": "code",
      "source": [
        "from datasets import Dataset"
      ],
      "metadata": {
        "id": "qbb6m6a4opzT"
      },
      "execution_count": 14,
      "outputs": []
    },
    {
      "cell_type": "code",
      "source": [
        "comments_dataset = Dataset.from_pandas(comments_df)\n",
        "comments_dataset"
      ],
      "metadata": {
        "colab": {
          "base_uri": "https://localhost:8080/"
        },
        "id": "i4YkemOko3wd",
        "outputId": "735dfe4e-a059-4e90-c76c-b9d4b55e975f"
      },
      "execution_count": 15,
      "outputs": [
        {
          "output_type": "execute_result",
          "data": {
            "text/plain": [
              "Dataset({\n",
              "    features: ['html_url', 'title', 'comments', 'body'],\n",
              "    num_rows: 2964\n",
              "})"
            ]
          },
          "metadata": {},
          "execution_count": 15
        }
      ]
    },
    {
      "cell_type": "markdown",
      "source": [
        "As now we have one omment per row, let's craete `comment_length` colum which contains number of words per comment."
      ],
      "metadata": {
        "id": "z5UBwax9pJaM"
      }
    },
    {
      "cell_type": "code",
      "source": [
        "comments_dataset  = comments_dataset.map(\n",
        "    lambda x: {'comment_length': len(x[\"comments\"].split())}\n",
        ")"
      ],
      "metadata": {
        "colab": {
          "base_uri": "https://localhost:8080/",
          "height": 49,
          "referenced_widgets": [
            "fb983d0d80d8401d9a5926e88cc73a8f",
            "4bfa5acfe8af45358d0faf170c5a48bd",
            "d22f56c5903d4b1ab947ef979b3f8507",
            "c873475864a546f29581c0fa48947e19",
            "b69700e43cc745f89d2a4b8048f6cbfc",
            "655f2c6898a04461b605ad3ae07a6488",
            "3fa6e0a5ecf643f9a145a599a7e60089",
            "37761d73bf244322a52582981cce65d7",
            "6513be866d3c430780f0f8f7f67bb044",
            "6c044f7f38b54fcf85cc8689b04843f7",
            "158cf8a19e034e9c8ac21aa7c3edf7cf"
          ]
        },
        "id": "wxlxGeJCo_qB",
        "outputId": "5409a9b0-fc4b-4e6e-d1b9-87c4127a4dea"
      },
      "execution_count": 16,
      "outputs": [
        {
          "output_type": "display_data",
          "data": {
            "text/plain": [
              "Map:   0%|          | 0/2964 [00:00<?, ? examples/s]"
            ],
            "application/vnd.jupyter.widget-view+json": {
              "version_major": 2,
              "version_minor": 0,
              "model_id": "fb983d0d80d8401d9a5926e88cc73a8f"
            }
          },
          "metadata": {}
        }
      ]
    },
    {
      "cell_type": "code",
      "source": [
        "comments_dataset"
      ],
      "metadata": {
        "colab": {
          "base_uri": "https://localhost:8080/"
        },
        "id": "1N_TggMDpkUP",
        "outputId": "957c7d57-4cf3-4cac-962f-1f366c6a515b"
      },
      "execution_count": 17,
      "outputs": [
        {
          "output_type": "execute_result",
          "data": {
            "text/plain": [
              "Dataset({\n",
              "    features: ['html_url', 'title', 'comments', 'body', 'comment_length'],\n",
              "    num_rows: 2964\n",
              "})"
            ]
          },
          "metadata": {},
          "execution_count": 17
        }
      ]
    },
    {
      "cell_type": "markdown",
      "source": [
        "As a next step we will concatenate the `title`, 'body` and `comment` together in a new `text` column"
      ],
      "metadata": {
        "id": "8g7pKpL7pqfa"
      }
    },
    {
      "cell_type": "code",
      "source": [
        "def concatenate_text(example):\n",
        "  return {\n",
        "      \"text\": example[\"title\"] + ' \\n ' +\n",
        "              example[\"body\"] + ' \\n ' +\n",
        "              example[\"comments\"]\n",
        "  }"
      ],
      "metadata": {
        "id": "SP__E-C7pmPj"
      },
      "execution_count": 18,
      "outputs": []
    },
    {
      "cell_type": "code",
      "source": [
        "comments_dataset = comments_dataset.map(concatenate_text)\n",
        "comments_dataset"
      ],
      "metadata": {
        "colab": {
          "base_uri": "https://localhost:8080/",
          "height": 120,
          "referenced_widgets": [
            "fc6a485424fd4bf98a9a0c12852c1c59",
            "1410874bedc94a08b0a380d3146a3322",
            "672316816a7d4ac58425cba5017c3e19",
            "e60796736b074445b14457dee4193c4a",
            "a3a64eb8721f4be5a92ae68c24c9a072",
            "fa24bda7b1834f7ea9448f9e0f135dcc",
            "08a42e07435d4aff80e3e72323100771",
            "4f378f8a36a24fbdad8cacf9d4745cc4",
            "bb5a20ae5e9d471faa743ad333702d1b",
            "763dff08c14e455e9c2e48aaaef8839a",
            "dd5556c9ce69424eb731d9073a027693"
          ]
        },
        "id": "69UCzQk2qI6h",
        "outputId": "7a3455c8-bd65-430d-9c3a-8ca315b39ded"
      },
      "execution_count": 19,
      "outputs": [
        {
          "output_type": "display_data",
          "data": {
            "text/plain": [
              "Map:   0%|          | 0/2964 [00:00<?, ? examples/s]"
            ],
            "application/vnd.jupyter.widget-view+json": {
              "version_major": 2,
              "version_minor": 0,
              "model_id": "fc6a485424fd4bf98a9a0c12852c1c59"
            }
          },
          "metadata": {}
        },
        {
          "output_type": "execute_result",
          "data": {
            "text/plain": [
              "Dataset({\n",
              "    features: ['html_url', 'title', 'comments', 'body', 'comment_length', 'text'],\n",
              "    num_rows: 2964\n",
              "})"
            ]
          },
          "metadata": {},
          "execution_count": 19
        }
      ]
    },
    {
      "cell_type": "markdown",
      "source": [
        "## Creating text embeddings"
      ],
      "metadata": {
        "id": "Eu2bfliwqZjC"
      }
    },
    {
      "cell_type": "markdown",
      "source": [
        "For creating text embeddings we will utilize `sentence-transformers` library that is dedicated to creating embeddings.\n",
        "\n",
        "As described in the library's documentation, our use case is an example of **asymmetric semantic search** because we have a short query whose answer we'd like to find in a longer document, like a an issue comment."
      ],
      "metadata": {
        "id": "vOsCytm-qwYC"
      }
    },
    {
      "cell_type": "code",
      "source": [
        "from transformers import AutoTokenizer, AutoModel"
      ],
      "metadata": {
        "id": "WcXVjQ0oqOLG"
      },
      "execution_count": 20,
      "outputs": []
    },
    {
      "cell_type": "code",
      "source": [
        "model_checkpoint = \"sentence-transformers/multi-qa-mpnet-base-dot-v1\""
      ],
      "metadata": {
        "id": "5xpELKcprJrY"
      },
      "execution_count": 21,
      "outputs": []
    },
    {
      "cell_type": "code",
      "source": [
        "tokenizer = AutoTokenizer.from_pretrained(model_checkpoint)\n",
        "model = AutoModel.from_pretrained(model_checkpoint)"
      ],
      "metadata": {
        "colab": {
          "base_uri": "https://localhost:8080/"
        },
        "id": "nDRoNUVyrNOS",
        "outputId": "a8bea925-3f59-483c-b64f-3f2c2b843c76"
      },
      "execution_count": 22,
      "outputs": [
        {
          "output_type": "stream",
          "name": "stderr",
          "text": [
            "/usr/local/lib/python3.10/dist-packages/transformers/tokenization_utils_base.py:1601: FutureWarning: `clean_up_tokenization_spaces` was not set. It will be set to `True` by default. This behavior will be depracted in transformers v4.45, and will be then set to `False` by default. For more details check this issue: https://github.com/huggingface/transformers/issues/31884\n",
            "  warnings.warn(\n"
          ]
        }
      ]
    },
    {
      "cell_type": "markdown",
      "source": [
        "To speed up the embeddings process, we will utilize GPU device:"
      ],
      "metadata": {
        "id": "ypXF1xl4rbrH"
      }
    },
    {
      "cell_type": "code",
      "source": [
        "import torch"
      ],
      "metadata": {
        "id": "Zej81YTZrXLL"
      },
      "execution_count": 23,
      "outputs": []
    },
    {
      "cell_type": "code",
      "source": [
        "device = torch.device(\"cuda\" if torch.cuda.is_available() else \"cpu\")\n",
        "device"
      ],
      "metadata": {
        "colab": {
          "base_uri": "https://localhost:8080/"
        },
        "id": "SL68nrGPrjFU",
        "outputId": "df0ac935-3c01-4a3d-e3db-7e2162b493d9"
      },
      "execution_count": 24,
      "outputs": [
        {
          "output_type": "execute_result",
          "data": {
            "text/plain": [
              "device(type='cuda')"
            ]
          },
          "metadata": {},
          "execution_count": 24
        }
      ]
    },
    {
      "cell_type": "code",
      "source": [
        "model.to(device)"
      ],
      "metadata": {
        "colab": {
          "base_uri": "https://localhost:8080/"
        },
        "id": "FYYBircVrtkA",
        "outputId": "6b48631f-3456-4ffb-ce50-b73fa6dd187e"
      },
      "execution_count": 25,
      "outputs": [
        {
          "output_type": "execute_result",
          "data": {
            "text/plain": [
              "MPNetModel(\n",
              "  (embeddings): MPNetEmbeddings(\n",
              "    (word_embeddings): Embedding(30527, 768, padding_idx=1)\n",
              "    (position_embeddings): Embedding(514, 768, padding_idx=1)\n",
              "    (LayerNorm): LayerNorm((768,), eps=1e-05, elementwise_affine=True)\n",
              "    (dropout): Dropout(p=0.1, inplace=False)\n",
              "  )\n",
              "  (encoder): MPNetEncoder(\n",
              "    (layer): ModuleList(\n",
              "      (0-11): 12 x MPNetLayer(\n",
              "        (attention): MPNetAttention(\n",
              "          (attn): MPNetSelfAttention(\n",
              "            (q): Linear(in_features=768, out_features=768, bias=True)\n",
              "            (k): Linear(in_features=768, out_features=768, bias=True)\n",
              "            (v): Linear(in_features=768, out_features=768, bias=True)\n",
              "            (o): Linear(in_features=768, out_features=768, bias=True)\n",
              "            (dropout): Dropout(p=0.1, inplace=False)\n",
              "          )\n",
              "          (LayerNorm): LayerNorm((768,), eps=1e-05, elementwise_affine=True)\n",
              "          (dropout): Dropout(p=0.1, inplace=False)\n",
              "        )\n",
              "        (intermediate): MPNetIntermediate(\n",
              "          (dense): Linear(in_features=768, out_features=3072, bias=True)\n",
              "          (intermediate_act_fn): GELUActivation()\n",
              "        )\n",
              "        (output): MPNetOutput(\n",
              "          (dense): Linear(in_features=3072, out_features=768, bias=True)\n",
              "          (LayerNorm): LayerNorm((768,), eps=1e-05, elementwise_affine=True)\n",
              "          (dropout): Dropout(p=0.1, inplace=False)\n",
              "        )\n",
              "      )\n",
              "    )\n",
              "    (relative_attention_bias): Embedding(32, 12)\n",
              "  )\n",
              "  (pooler): MPNetPooler(\n",
              "    (dense): Linear(in_features=768, out_features=768, bias=True)\n",
              "    (activation): Tanh()\n",
              "  )\n",
              ")"
            ]
          },
          "metadata": {},
          "execution_count": 25
        }
      ]
    },
    {
      "cell_type": "markdown",
      "source": [
        "As we mentioned earlier, we’d like to represent each entry in our GitHub issues corpus as a single vector, so we need to “pool” or average our token embeddings in some way. One popular approach is to perform CLS pooling on our model’s outputs, where we simply collect the last hidden state for the special [CLS] token. The following function does the trick for us:"
      ],
      "metadata": {
        "id": "e-HxZzlssNYJ"
      }
    },
    {
      "cell_type": "code",
      "source": [
        "def clas_pooling(model_output):\n",
        "  return model_output.last_hidden_state[:, 0]"
      ],
      "metadata": {
        "id": "yyhF0QUQsEW3"
      },
      "execution_count": 26,
      "outputs": []
    },
    {
      "cell_type": "markdown",
      "source": [
        "Next, we’ll create a helper function that will tokenize a list of documents, place the tensors on the GPU, feed them to the model, and finally apply CLS pooling to the outputs:"
      ],
      "metadata": {
        "id": "GHhNki2YyXqt"
      }
    },
    {
      "cell_type": "code",
      "source": [
        "def get_embeddings(text_list):\n",
        "  encoded_input = tokenizer(\n",
        "      text_list,\n",
        "      padding=True,\n",
        "      truncation=True,\n",
        "      return_tensors='pt'\n",
        "  )\n",
        "\n",
        "  encoded_input = {k:v.to(device) for k, v in encoded_input.items()}\n",
        "  model_output = model(**encoded_input)\n",
        "  return clas_pooling(model_output)"
      ],
      "metadata": {
        "id": "pXWmNpxQyTGr"
      },
      "execution_count": 27,
      "outputs": []
    },
    {
      "cell_type": "markdown",
      "source": [
        "Let's test this function by giving first entry in the corpus"
      ],
      "metadata": {
        "id": "KSYinNRQzLv8"
      }
    },
    {
      "cell_type": "code",
      "source": [
        "embedding = get_embeddings(comments_dataset[\"text\"][0])\n",
        "embedding"
      ],
      "metadata": {
        "colab": {
          "base_uri": "https://localhost:8080/"
        },
        "id": "b6FB5qRGy1Aj",
        "outputId": "b0865a99-274d-46d1-ef64-9a4caac9b12e"
      },
      "execution_count": 28,
      "outputs": [
        {
          "output_type": "execute_result",
          "data": {
            "text/plain": [
              "tensor([[-2.3901e-01, -9.6629e-02, -7.5987e-02, -9.8427e-02, -9.9332e-02,\n",
              "         -1.1464e-01,  7.8535e-03,  2.3955e-01, -2.9256e-02, -7.6068e-02,\n",
              "          3.0458e-01, -6.9792e-02, -1.5569e-01,  2.4725e-01, -9.1881e-02,\n",
              "          2.5280e-01,  1.6807e-01,  9.9753e-05, -9.9873e-02,  8.6820e-02,\n",
              "         -7.9818e-03, -1.0165e-01,  1.2426e-01,  4.6468e-02, -2.1741e-01,\n",
              "          4.1782e-02,  4.9948e-02,  1.3912e-01, -4.1841e-01, -4.5949e-01,\n",
              "          1.3835e-01,  1.7075e-01,  3.3363e-03,  5.6527e-01, -1.0426e-04,\n",
              "          2.1617e-02,  2.3902e-01,  1.0892e-02, -1.4058e-01, -1.7697e-01,\n",
              "         -5.2251e-01, -4.0497e-01, -1.4152e-01,  2.8701e-02,  7.4875e-02,\n",
              "          6.8656e-02, -9.1020e-02,  2.4530e-03,  3.4009e-01,  9.7650e-02,\n",
              "          2.4080e-01, -1.9418e-01,  1.7939e-01, -7.8935e-03,  3.3115e-01,\n",
              "          5.5396e-01, -5.1814e-02,  2.2530e-01,  4.5613e-03, -1.0242e-02,\n",
              "          1.1259e-01,  2.0863e-01, -8.3750e-02, -2.6130e-01,  2.9129e-01,\n",
              "         -1.7616e-01,  5.2985e-01, -3.9994e-01, -1.8091e-01, -1.0789e-01,\n",
              "          7.0447e-02, -2.0107e-01, -3.9558e-01, -2.6698e-01, -1.1791e-01,\n",
              "         -9.7808e-03,  5.2823e-02,  2.3144e-01, -1.5761e-02,  7.4347e-02,\n",
              "         -3.0078e-01, -3.5148e-01,  4.4437e-02,  4.7700e-02,  1.0769e-01,\n",
              "         -1.6199e-01,  4.2562e-02, -8.6764e-02,  3.2450e-01,  3.2728e-03,\n",
              "         -1.6789e-01, -2.4177e-01, -3.0246e-01, -7.3181e-02, -1.5830e-01,\n",
              "         -1.6684e-01, -2.6600e-01, -3.8567e-01,  4.0481e-01,  3.5333e-01,\n",
              "         -3.6002e-01, -4.9509e-02,  2.7266e-03, -6.4769e-02,  2.9594e-01,\n",
              "          7.1946e-02,  1.1165e-02,  7.9210e-02,  5.5984e-01,  3.0585e-01,\n",
              "          2.1763e-02,  3.3492e-01,  3.2754e-01, -6.2647e-02,  6.8963e-02,\n",
              "          5.1729e-01,  5.3366e-01, -2.6219e-01,  3.7701e-02,  1.6808e-01,\n",
              "         -3.3237e-01, -3.1906e-01,  5.4371e-03, -6.1021e-02,  8.3099e-02,\n",
              "          7.0323e-02, -1.0916e-01,  5.2561e-02,  1.4157e-01, -1.6033e-03,\n",
              "         -3.2106e-01, -1.4573e-01, -3.5561e-01, -5.5258e-02,  1.3113e-01,\n",
              "         -4.6804e-01,  9.0833e-02,  4.5196e-01, -1.0139e-01, -2.6867e-01,\n",
              "          3.5846e-02,  1.7166e-01,  3.3047e-02,  2.9089e-01, -1.4331e-01,\n",
              "         -3.8252e-01,  2.0312e-01,  9.6587e-02, -4.5625e-02,  2.5452e-01,\n",
              "         -1.9360e-01, -2.5137e-01, -1.8665e-01,  3.0900e-01, -1.1217e-01,\n",
              "          3.2880e-01, -5.4827e-01,  2.5913e-03,  1.0221e-02,  3.5616e-01,\n",
              "          4.9726e-01,  3.8539e-01,  2.9421e-01, -1.6145e-01,  4.2431e-02,\n",
              "          1.2326e-01,  3.3841e-01, -5.1192e-02, -1.0015e-02, -2.7382e-01,\n",
              "          1.2003e-01,  2.0830e-01, -2.9467e-01, -1.0349e-02, -5.0785e-02,\n",
              "         -1.2330e-01,  1.9677e-02, -4.8743e-02, -2.0472e-01, -7.1756e-02,\n",
              "         -4.5258e-01, -2.4177e-02, -1.1711e-02,  1.9136e-02,  1.5435e-01,\n",
              "         -3.1247e-01, -7.8797e-02,  1.7793e-01, -1.8266e-01,  1.1713e-01,\n",
              "         -3.1271e-01, -6.2414e-01, -1.1597e-01, -6.4723e-02,  1.3026e-01,\n",
              "          1.9620e-01,  3.2610e-01,  7.6279e-02,  4.8459e-02, -1.5296e-01,\n",
              "         -2.3825e-02,  1.7973e-01,  3.9436e-01, -1.5916e-01, -2.5755e-01,\n",
              "          9.0423e-02, -3.2763e-01,  4.2901e-02, -2.3059e-02, -3.2671e-02,\n",
              "          3.2822e-02, -4.2012e-01,  2.6048e-01, -3.9585e-02, -8.9378e-02,\n",
              "         -1.0924e-01,  2.3260e-01,  9.9481e-02, -2.4291e-01, -2.2738e-01,\n",
              "         -1.8153e-01,  2.8517e-01, -2.4265e-01,  2.7514e-01,  9.9705e-02,\n",
              "          8.1557e-02, -1.5716e-01, -6.2341e-03, -2.2832e-02,  3.2851e-01,\n",
              "          1.7364e-01, -7.0138e-02, -4.6743e-02,  1.8017e-01, -9.4532e-02,\n",
              "          1.8701e-01,  1.7699e-01,  4.1757e-01,  3.4248e-01, -1.3474e-01,\n",
              "         -1.0562e-02, -1.0680e-01, -1.4602e-01,  2.2494e-02, -2.6843e-01,\n",
              "          2.9330e-01,  9.9112e-02, -2.1071e-01, -2.4932e-01, -6.8769e-02,\n",
              "         -1.9651e-01, -2.6566e-01, -1.5418e-01,  5.7348e-03, -1.8555e-01,\n",
              "          1.4184e-01, -2.9015e-01,  2.5407e-01, -2.1892e-01,  1.2757e-01,\n",
              "          9.8085e-02, -2.0112e-01, -2.4399e-02,  8.6931e-02, -2.9096e-02,\n",
              "         -5.7732e-02,  1.0094e-01,  3.2209e-01,  9.0212e-02,  1.8304e-01,\n",
              "         -1.6037e-02,  3.3662e-02,  2.4334e-01, -5.9261e-02,  3.6272e-01,\n",
              "          1.4780e-01, -4.0539e-02,  4.7689e-02,  3.1289e-01,  1.1999e-01,\n",
              "          8.4429e-02,  3.8804e-01, -4.0347e-02,  1.2668e-01, -2.4399e-01,\n",
              "         -7.4404e-02, -2.0962e-01, -5.3412e-01,  1.7856e-01, -1.3227e-01,\n",
              "         -3.1140e-01, -2.7849e-02, -5.3533e-02,  1.1702e-01, -4.5175e-01,\n",
              "          1.4089e-01,  2.3402e-01,  2.5094e-01, -3.0694e-01, -6.9881e-02,\n",
              "          1.4715e-01, -2.8961e-02,  7.1965e-03,  1.2426e-01,  4.2915e-01,\n",
              "         -2.8243e-01,  4.5248e-01,  2.3892e-01, -1.8568e-01, -4.8974e-01,\n",
              "         -4.0188e-01,  1.1555e-02, -1.6683e-01, -1.1536e-01,  8.6176e-02,\n",
              "         -7.1704e-02,  1.0232e-01, -4.0161e-01, -3.9520e-01,  2.9508e-02,\n",
              "         -3.5994e-01, -1.3936e-01,  4.7069e-02,  1.1847e-01, -2.1502e-01,\n",
              "         -9.6946e-02, -2.9357e-01, -2.8712e-01,  5.0133e-01, -5.8023e-02,\n",
              "          3.8590e-02,  1.1208e-02, -2.7325e-01, -1.0945e-01,  1.3942e-01,\n",
              "          4.0991e-02, -6.4890e-02, -3.0882e-01, -2.9969e-02,  4.5431e-02,\n",
              "         -1.4389e-02,  3.6896e-01,  2.1262e-01, -3.6758e-01,  5.5075e-02,\n",
              "         -3.5045e-01, -1.3971e-01, -1.2218e-02,  4.6914e-01,  2.5608e-01,\n",
              "         -1.5875e-01,  6.6293e-02,  6.2628e-02, -1.7685e-01,  1.2625e-01,\n",
              "         -1.2622e-01,  1.1798e-01,  3.5656e-01,  3.3171e-01, -1.3689e-02,\n",
              "          1.2073e-01,  8.7462e-02,  6.5252e-01,  3.6809e-01, -6.8247e-02,\n",
              "          1.4371e-01,  2.6410e-01,  3.7298e-02,  4.1591e-02, -2.8943e-01,\n",
              "          6.7915e-02, -6.9557e-02, -5.1450e-02,  4.2800e-02, -1.3589e-01,\n",
              "         -1.1568e-01, -1.9233e-02, -4.3928e-01,  2.9256e-02, -4.2807e-01,\n",
              "         -2.1283e-01, -3.3190e-01,  1.3050e-01, -1.5438e-02, -4.6083e-01,\n",
              "          1.4757e-01, -2.8378e-02,  2.7721e-01,  2.4186e-01,  1.7500e-01,\n",
              "          1.7172e-01,  2.8601e-02, -2.6729e-02, -1.4326e-01, -7.8437e-02,\n",
              "         -2.7747e-02,  2.1937e-01,  6.6296e-02, -1.2067e-01,  6.5426e-02,\n",
              "          4.7222e-02,  4.0117e-01, -1.2221e-02,  1.5748e-01, -2.5682e-01,\n",
              "         -3.8908e-01,  6.1793e-01, -2.5976e-01,  1.6858e-01,  3.7418e-01,\n",
              "          5.9490e-01,  4.4323e-01, -3.2293e-01, -1.9690e-01,  2.1755e-01,\n",
              "         -5.8347e-03,  1.6324e-01,  1.8414e-01,  6.3955e-02,  2.3770e-01,\n",
              "         -4.8588e-01,  2.9914e-01,  2.3697e-01, -2.5118e-01, -4.3206e-02,\n",
              "         -7.8525e-02, -1.1370e-01,  8.3101e-02, -3.3285e-02, -2.6970e-01,\n",
              "          4.2521e-03, -4.2841e-02,  1.4848e-01,  1.0381e-01,  1.1919e-01,\n",
              "          3.6413e-01,  5.8108e-01,  2.2705e-01, -4.1352e-01, -2.9245e-02,\n",
              "         -1.8348e-01, -7.7106e-02,  3.1034e-01,  1.8189e-01,  2.2657e-01,\n",
              "          6.4397e-02,  2.0800e-01, -1.8131e-01, -2.2631e-01, -2.2129e-01,\n",
              "          3.0954e-02, -2.0943e-01, -5.2674e-03,  1.0522e-01,  5.1540e-02,\n",
              "         -9.0407e-02,  8.2489e-02,  9.8754e-02, -3.2121e-01,  1.3188e-01,\n",
              "          5.7147e-01,  9.5518e-01,  3.5030e-01,  1.0907e-01, -2.9229e-01,\n",
              "         -2.7203e-01,  3.8136e-01, -3.5753e-01, -1.2869e-01, -3.1131e-01,\n",
              "         -1.8119e-01, -1.6777e-01, -3.0745e-01, -7.8064e-02, -4.9346e-01,\n",
              "         -3.1757e-01,  1.5237e-01, -1.9618e-01,  5.3758e-01,  1.7765e-02,\n",
              "          1.1677e-01,  1.2828e-01, -3.8145e-02,  2.9709e-01,  1.8922e-01,\n",
              "          1.1154e-02,  1.5930e-01, -2.8083e-03, -4.5456e-01, -2.7946e-02,\n",
              "          2.5343e-03, -4.3066e-01,  3.8612e-02, -3.4059e-01,  3.9982e-02,\n",
              "         -2.3391e-01, -2.8244e-01,  1.1175e-01, -1.1043e-01,  6.1924e-01,\n",
              "          2.1432e-01, -9.8472e-02, -4.8565e-02,  2.7036e-01,  3.9804e-01,\n",
              "         -1.9713e-01, -1.9661e-01,  5.1381e-01, -2.0460e-01, -1.5621e-01,\n",
              "         -9.8764e-02, -2.8503e-02, -3.3484e-01, -2.8221e-01, -7.6759e-02,\n",
              "         -3.6143e-01,  7.3266e-02, -3.0638e-02,  2.7322e-01, -6.9113e-02,\n",
              "         -1.6197e-01,  1.7807e-01,  1.1142e-01, -1.4107e-01, -1.4226e-01,\n",
              "         -1.0919e-01, -2.9433e-01, -3.8060e-02,  1.9025e-01,  2.2715e-01,\n",
              "         -1.0966e-01, -8.3639e-02,  5.7343e-02, -1.9756e-01, -2.1535e-01,\n",
              "         -2.2593e-01,  1.2007e-01, -1.2813e-01,  6.9144e-02, -4.9350e-01,\n",
              "         -3.3984e-01,  1.1744e-01,  1.9436e-01,  2.8341e-01,  3.4717e-01,\n",
              "          7.3401e-02, -1.6587e-01, -2.6410e-01,  2.0911e-01, -3.3191e-01,\n",
              "          1.6772e-01,  6.7988e-02,  2.4234e-01, -7.3011e-02,  2.7304e-02,\n",
              "         -3.8932e-01,  1.2496e-01, -1.2469e-01, -3.7180e-02, -1.9389e-01,\n",
              "         -7.6455e-02,  2.1541e-03, -4.1985e-01,  4.3005e-02,  2.3639e-02,\n",
              "         -1.8424e-01, -2.7935e-01,  8.1833e-02,  6.8820e-02,  6.4591e-02,\n",
              "          3.8299e-02, -5.7725e-02, -1.0692e-01,  1.2887e-01,  3.2313e-01,\n",
              "          2.2982e-01, -9.9813e-02,  1.5450e-01, -5.4068e-02,  1.7550e-01,\n",
              "          9.1610e-02, -3.4807e-02,  1.1788e-01, -1.2650e-02, -2.8035e-01,\n",
              "         -1.1009e-01,  3.6471e-01, -1.7557e-01, -1.7348e-01, -3.4974e-01,\n",
              "          1.6406e-01,  9.7483e-02,  6.1404e-01,  1.1036e-01,  1.0827e-01,\n",
              "         -4.1964e-01,  2.3070e-01, -2.1415e-02, -3.0191e-02, -1.7832e-01,\n",
              "         -1.2155e-01, -7.5364e-02,  2.9506e-01, -9.9452e-02, -3.0546e-01,\n",
              "          2.3498e-01,  1.7823e-01,  2.4132e-02,  8.3685e-02,  5.0492e-01,\n",
              "          1.2312e-01, -2.3814e-01,  4.2432e-01,  2.2289e-01, -1.2864e-01,\n",
              "          4.5591e-01,  5.2330e-01, -1.4155e-01, -7.8563e-02, -3.6023e-02,\n",
              "          8.7115e-02,  1.8058e-01, -1.8233e-01,  8.8307e-02,  3.2385e-01,\n",
              "          6.4594e-01, -1.6941e-01,  3.7055e-01,  2.5520e-02,  3.0593e-01,\n",
              "          2.1329e-01,  2.7046e-02, -2.2942e-01,  4.3309e-01,  2.5758e-01,\n",
              "          3.3523e-01, -5.9015e-01,  1.6957e-01,  5.0567e-01, -2.3568e-02,\n",
              "          2.1672e-01, -3.5947e-01, -2.2375e-02, -5.5236e-02, -1.5990e-02,\n",
              "         -7.1933e-02,  1.2184e-01,  1.4901e-01,  2.9013e-01, -6.7337e-02,\n",
              "         -2.7343e-02, -4.6706e-02,  2.2305e-01,  2.6631e-01, -1.4284e-01,\n",
              "         -2.0084e-01,  2.6222e-01, -2.4848e-01,  7.8639e-02,  2.1772e-01,\n",
              "          1.6160e-01, -9.7831e-02, -5.2137e-02,  1.7989e-01,  4.4975e-01,\n",
              "         -1.7470e-01, -3.9890e-02,  3.1763e-02, -1.5300e-01,  1.4050e-01,\n",
              "          6.2751e-02,  2.7469e-01, -6.3565e-02,  1.2335e-01,  5.8446e-04,\n",
              "         -3.8313e-01, -4.3725e-02,  4.2436e-01,  4.5854e-01, -3.6005e-01,\n",
              "          4.1665e-01,  1.7468e-01,  2.5864e-01, -6.4491e-02,  4.3556e-01,\n",
              "         -9.3128e-02,  1.2833e-01, -5.6073e-02,  1.4740e-01,  4.0303e-02,\n",
              "          2.1705e-01,  9.1442e-02, -2.8760e-02, -9.6990e-02,  4.1218e-02,\n",
              "         -2.1605e-01,  2.0983e-01,  3.0643e-01,  1.7300e-01,  4.2231e-01,\n",
              "         -3.0319e-01,  1.3741e-01,  1.5261e-01, -7.3156e-02, -2.4358e-01,\n",
              "         -4.7290e-02,  1.3294e-01, -3.5928e-01,  1.0686e-02,  2.1445e-01,\n",
              "         -8.4636e-02,  1.1322e-02,  6.4480e-02,  4.1793e-01,  2.6201e-01,\n",
              "          1.0009e-01,  6.5335e-02, -1.3866e-02,  2.8162e-01, -3.6472e-01,\n",
              "          2.3533e-01,  1.5799e-01, -1.4058e-01, -2.5758e-01, -8.8054e-02,\n",
              "         -5.6585e-03, -1.2488e-02, -4.7837e-01, -7.2429e-02, -1.3979e-01,\n",
              "          4.4009e-01, -1.4433e-01,  4.9366e-02, -3.8849e-01,  5.4631e-02,\n",
              "         -2.1084e-02,  2.1413e-01, -3.7072e-01,  1.0999e-01,  2.4681e-02,\n",
              "          7.7397e-02,  5.2346e-02,  1.7007e-01,  6.6198e-02,  2.1721e-01,\n",
              "         -2.9845e-01, -1.8052e-01,  3.6785e-01,  1.8785e-02,  9.8077e-02,\n",
              "         -1.5002e-01,  4.3507e-01,  5.1037e-01, -2.4775e-01, -3.5806e-01,\n",
              "         -2.4988e-01, -2.2032e-02, -2.2639e-01, -4.8240e-01,  2.8331e-01,\n",
              "          9.7969e-02,  2.6277e-01, -8.5835e-02,  8.1413e-02, -6.9909e-02,\n",
              "         -2.2768e-01,  1.6500e-01, -2.6251e-01]], device='cuda:0',\n",
              "       grad_fn=<SelectBackward0>)"
            ]
          },
          "metadata": {},
          "execution_count": 28
        }
      ]
    },
    {
      "cell_type": "code",
      "source": [
        "embedding.shape"
      ],
      "metadata": {
        "colab": {
          "base_uri": "https://localhost:8080/"
        },
        "id": "zaepKSIazYzN",
        "outputId": "d8cb5025-291a-432a-eee8-f2ca20252578"
      },
      "execution_count": 29,
      "outputs": [
        {
          "output_type": "execute_result",
          "data": {
            "text/plain": [
              "torch.Size([1, 768])"
            ]
          },
          "metadata": {},
          "execution_count": 29
        }
      ]
    },
    {
      "cell_type": "markdown",
      "source": [
        "Great, we’ve converted the first entry in our corpus into a 768-dimensional vector! We can use Dataset.map() to apply our get_embeddings() function to each row in our corpus, so let’s create a new embeddings column as follows:"
      ],
      "metadata": {
        "id": "duSPnpwkznxq"
      }
    },
    {
      "cell_type": "code",
      "source": [
        "embedding_dataset = comments_dataset.map(\n",
        "    lambda x: {\"embeddings\": get_embeddings(x[\"text\"]).detach().cpu().numpy()[0]}\n",
        ")"
      ],
      "metadata": {
        "colab": {
          "base_uri": "https://localhost:8080/",
          "height": 49,
          "referenced_widgets": [
            "f59055e7348d46ce8ef90f7a0193e7db",
            "0fc4fc8405514ead8eb765c6cf4b5e8a",
            "dec4923833b04307bfb3023c5e674ade",
            "b21c984060f24808a60f1684d5b512f9",
            "c54ea0e5b4e3477f9c17a1bb2e7b93cf",
            "315133bc5bd84e30b81356c10ad325b2",
            "79bd7c4e9469420c9fc2ae8139802c72",
            "863e997ba9f542f4a99df093c8bea4e7",
            "857bfdf8a0624e44bd1c3938549ef278",
            "5aee944447594009936c4beaad2fac73",
            "2f8e5a68187a4d3d8159252b297f114a"
          ]
        },
        "id": "WLoWIj7rzjdd",
        "outputId": "029cf46c-e91f-4bbf-c0ac-9f2511317bd2"
      },
      "execution_count": 30,
      "outputs": [
        {
          "output_type": "display_data",
          "data": {
            "text/plain": [
              "Map:   0%|          | 0/2964 [00:00<?, ? examples/s]"
            ],
            "application/vnd.jupyter.widget-view+json": {
              "version_major": 2,
              "version_minor": 0,
              "model_id": "f59055e7348d46ce8ef90f7a0193e7db"
            }
          },
          "metadata": {}
        }
      ]
    },
    {
      "cell_type": "markdown",
      "source": [
        "## Using FAISS for efficient similarity search"
      ],
      "metadata": {
        "id": "UHRneiqz0bq_"
      }
    },
    {
      "cell_type": "markdown",
      "source": [
        "To search through our embedding dataset efficiently, we'll use a FAISS index, provided by the Facebook AI Similarity Search (FAISS) library. FAISS offers algorithms for fast searching and clustering of embedding vectors, enabling us to find similar embeddings based on an input vector.\n",
        "\n",
        "In Hugging Face Datasets, we can easily create a FAISS index using the `Dataset.add_faiss_index()` method. By specifying the dataset column containing the embeddings, we can build an index for quick similarity searches. This approach significantly speeds up tasks like nearest neighbor searches over large embedding datasets."
      ],
      "metadata": {
        "id": "493QopFH0jJL"
      }
    },
    {
      "cell_type": "code",
      "source": [
        "embedding_dataset.add_faiss_index(column=\"embeddings\")"
      ],
      "metadata": {
        "colab": {
          "base_uri": "https://localhost:8080/",
          "height": 120,
          "referenced_widgets": [
            "1e2e5b12ba794a0b8ac0d50d4fd166f3",
            "74356a6fc1904161b5f0cf74bb50a2a4",
            "52046dc1d62749dd9f55d0e1463557c3",
            "648a1cd311c34de1b216d5e5b1759f0f",
            "57fb781d2dfb4d9d830803cfba015c78",
            "57bf004d00ee48ef88f141faf249bc2a",
            "14a98f4e6e9b4a5db4ac4d9aeed20f5b",
            "bd2f5636e6684f12bb1a5eb4db7bc5b9",
            "2316c77162fd44d0abd89cfc21a508c7",
            "e654258fe2a44f39889ba84c1a9e4853",
            "29790240487b47ceaefe8b4ca4be8e1f"
          ]
        },
        "id": "xPOkAsPN0rPl",
        "outputId": "ad638016-7656-486a-a1fb-d5046075f2b0"
      },
      "execution_count": 31,
      "outputs": [
        {
          "output_type": "display_data",
          "data": {
            "text/plain": [
              "  0%|          | 0/3 [00:00<?, ?it/s]"
            ],
            "application/vnd.jupyter.widget-view+json": {
              "version_major": 2,
              "version_minor": 0,
              "model_id": "1e2e5b12ba794a0b8ac0d50d4fd166f3"
            }
          },
          "metadata": {}
        },
        {
          "output_type": "execute_result",
          "data": {
            "text/plain": [
              "Dataset({\n",
              "    features: ['html_url', 'title', 'comments', 'body', 'comment_length', 'text', 'embeddings'],\n",
              "    num_rows: 2964\n",
              "})"
            ]
          },
          "metadata": {},
          "execution_count": 31
        }
      ]
    },
    {
      "cell_type": "markdown",
      "source": [
        "We can now perform queries on this index by conducting a nearest neighbor search using the `Dataset.get_nearest_examples()` function. Let's test this by embedding a question as follows:"
      ],
      "metadata": {
        "id": "HS6nrhJN2ldP"
      }
    },
    {
      "cell_type": "code",
      "source": [
        "question = \"how can I load a dataset offline?\"\n",
        "question_embedding = get_embeddings([question]).cpu().detach().numpy()"
      ],
      "metadata": {
        "id": "NDiDFdUM1eOC"
      },
      "execution_count": 56,
      "outputs": []
    },
    {
      "cell_type": "code",
      "source": [
        "question_embedding.shape"
      ],
      "metadata": {
        "colab": {
          "base_uri": "https://localhost:8080/"
        },
        "id": "DVxdi1Sx3mOY",
        "outputId": "5a1c80b7-61b2-4cc8-aef2-ae6705b411c0"
      },
      "execution_count": 57,
      "outputs": [
        {
          "output_type": "execute_result",
          "data": {
            "text/plain": [
              "(1, 768)"
            ]
          },
          "metadata": {},
          "execution_count": 57
        }
      ]
    },
    {
      "cell_type": "code",
      "source": [
        "scores, samples = embedding_dataset.get_nearest_examples(\n",
        "    \"embeddings\",\n",
        "    question_embedding,\n",
        "    k = 5\n",
        ")"
      ],
      "metadata": {
        "id": "Bqlrgfg13n2a"
      },
      "execution_count": 62,
      "outputs": []
    },
    {
      "cell_type": "markdown",
      "source": [
        "\n",
        "The `Dataset.get_nearest_examples()` function returns a tuple that includes similarity scores and a set of samples (e.g., the top 5 matches). To facilitate sorting and analysis, you can collect these results into a `pandas.DataFrame`. This will allow you to easily organize the data and review the ranked matches."
      ],
      "metadata": {
        "id": "2Eq6xkK233C0"
      }
    },
    {
      "cell_type": "code",
      "source": [
        "import pandas as pd\n",
        "\n",
        "samples_df = pd.DataFrame.from_dict(samples)\n",
        "samples_df[\"scores\"] = scores\n",
        "samples_df.sort_values(\"scores\", ascending=False, inplace=True)"
      ],
      "metadata": {
        "id": "SMhLe9Hy3ydT"
      },
      "execution_count": 63,
      "outputs": []
    },
    {
      "cell_type": "code",
      "source": [
        "samples_df"
      ],
      "metadata": {
        "colab": {
          "base_uri": "https://localhost:8080/",
          "height": 467
        },
        "id": "5PVlr-Vm38MQ",
        "outputId": "c87afdfc-d81c-4eaf-9fc3-6e355d6bd385"
      },
      "execution_count": 64,
      "outputs": [
        {
          "output_type": "execute_result",
          "data": {
            "text/plain": [
              "                                            html_url  \\\n",
              "4  https://github.com/huggingface/datasets/issues...   \n",
              "3  https://github.com/huggingface/datasets/issues...   \n",
              "2  https://github.com/huggingface/datasets/issues...   \n",
              "1  https://github.com/huggingface/datasets/issues...   \n",
              "0  https://github.com/huggingface/datasets/issues...   \n",
              "\n",
              "                                       title  \\\n",
              "4  Discussion using datasets in offline mode   \n",
              "3  Discussion using datasets in offline mode   \n",
              "2  Discussion using datasets in offline mode   \n",
              "1  Discussion using datasets in offline mode   \n",
              "0  Discussion using datasets in offline mode   \n",
              "\n",
              "                                            comments  \\\n",
              "4  Requiring online connection is a deal breaker ...   \n",
              "3  The local dataset builders (csv, text , json a...   \n",
              "2  I opened a PR that allows to reload modules th...   \n",
              "1  > here is my way to load a dataset offline, bu...   \n",
              "0  here is my way to load a dataset offline, but ...   \n",
              "\n",
              "                                                body  comment_length  \\\n",
              "4  `datasets.load_dataset(\"csv\", ...)` breaks if ...              57   \n",
              "3  `datasets.load_dataset(\"csv\", ...)` breaks if ...              38   \n",
              "2  `datasets.load_dataset(\"csv\", ...)` breaks if ...             179   \n",
              "1  `datasets.load_dataset(\"csv\", ...)` breaks if ...              76   \n",
              "0  `datasets.load_dataset(\"csv\", ...)` breaks if ...              47   \n",
              "\n",
              "                                                text  \\\n",
              "4  Discussion using datasets in offline mode \\n `...   \n",
              "3  Discussion using datasets in offline mode \\n `...   \n",
              "2  Discussion using datasets in offline mode \\n `...   \n",
              "1  Discussion using datasets in offline mode \\n `...   \n",
              "0  Discussion using datasets in offline mode \\n `...   \n",
              "\n",
              "                                          embeddings     scores  \n",
              "4  [-0.4731806814670563, 0.24578382074832916, -0....  25.505020  \n",
              "3  [-0.4490852952003479, 0.20950652658939362, -0....  24.555538  \n",
              "2  [-0.4716479778289795, 0.2902272641658783, -0.0...  24.148989  \n",
              "1  [-0.4992601275444031, 0.22699788212776184, -0....  22.894001  \n",
              "0  [-0.4902574121952057, 0.22889623045921326, -0....  22.406656  "
            ],
            "text/html": [
              "\n",
              "  <div id=\"df-a0a2f877-3787-4c08-bea0-7c9b2b5d7d1c\" class=\"colab-df-container\">\n",
              "    <div>\n",
              "<style scoped>\n",
              "    .dataframe tbody tr th:only-of-type {\n",
              "        vertical-align: middle;\n",
              "    }\n",
              "\n",
              "    .dataframe tbody tr th {\n",
              "        vertical-align: top;\n",
              "    }\n",
              "\n",
              "    .dataframe thead th {\n",
              "        text-align: right;\n",
              "    }\n",
              "</style>\n",
              "<table border=\"1\" class=\"dataframe\">\n",
              "  <thead>\n",
              "    <tr style=\"text-align: right;\">\n",
              "      <th></th>\n",
              "      <th>html_url</th>\n",
              "      <th>title</th>\n",
              "      <th>comments</th>\n",
              "      <th>body</th>\n",
              "      <th>comment_length</th>\n",
              "      <th>text</th>\n",
              "      <th>embeddings</th>\n",
              "      <th>scores</th>\n",
              "    </tr>\n",
              "  </thead>\n",
              "  <tbody>\n",
              "    <tr>\n",
              "      <th>4</th>\n",
              "      <td>https://github.com/huggingface/datasets/issues...</td>\n",
              "      <td>Discussion using datasets in offline mode</td>\n",
              "      <td>Requiring online connection is a deal breaker ...</td>\n",
              "      <td>`datasets.load_dataset(\"csv\", ...)` breaks if ...</td>\n",
              "      <td>57</td>\n",
              "      <td>Discussion using datasets in offline mode \\n `...</td>\n",
              "      <td>[-0.4731806814670563, 0.24578382074832916, -0....</td>\n",
              "      <td>25.505020</td>\n",
              "    </tr>\n",
              "    <tr>\n",
              "      <th>3</th>\n",
              "      <td>https://github.com/huggingface/datasets/issues...</td>\n",
              "      <td>Discussion using datasets in offline mode</td>\n",
              "      <td>The local dataset builders (csv, text , json a...</td>\n",
              "      <td>`datasets.load_dataset(\"csv\", ...)` breaks if ...</td>\n",
              "      <td>38</td>\n",
              "      <td>Discussion using datasets in offline mode \\n `...</td>\n",
              "      <td>[-0.4490852952003479, 0.20950652658939362, -0....</td>\n",
              "      <td>24.555538</td>\n",
              "    </tr>\n",
              "    <tr>\n",
              "      <th>2</th>\n",
              "      <td>https://github.com/huggingface/datasets/issues...</td>\n",
              "      <td>Discussion using datasets in offline mode</td>\n",
              "      <td>I opened a PR that allows to reload modules th...</td>\n",
              "      <td>`datasets.load_dataset(\"csv\", ...)` breaks if ...</td>\n",
              "      <td>179</td>\n",
              "      <td>Discussion using datasets in offline mode \\n `...</td>\n",
              "      <td>[-0.4716479778289795, 0.2902272641658783, -0.0...</td>\n",
              "      <td>24.148989</td>\n",
              "    </tr>\n",
              "    <tr>\n",
              "      <th>1</th>\n",
              "      <td>https://github.com/huggingface/datasets/issues...</td>\n",
              "      <td>Discussion using datasets in offline mode</td>\n",
              "      <td>&gt; here is my way to load a dataset offline, bu...</td>\n",
              "      <td>`datasets.load_dataset(\"csv\", ...)` breaks if ...</td>\n",
              "      <td>76</td>\n",
              "      <td>Discussion using datasets in offline mode \\n `...</td>\n",
              "      <td>[-0.4992601275444031, 0.22699788212776184, -0....</td>\n",
              "      <td>22.894001</td>\n",
              "    </tr>\n",
              "    <tr>\n",
              "      <th>0</th>\n",
              "      <td>https://github.com/huggingface/datasets/issues...</td>\n",
              "      <td>Discussion using datasets in offline mode</td>\n",
              "      <td>here is my way to load a dataset offline, but ...</td>\n",
              "      <td>`datasets.load_dataset(\"csv\", ...)` breaks if ...</td>\n",
              "      <td>47</td>\n",
              "      <td>Discussion using datasets in offline mode \\n `...</td>\n",
              "      <td>[-0.4902574121952057, 0.22889623045921326, -0....</td>\n",
              "      <td>22.406656</td>\n",
              "    </tr>\n",
              "  </tbody>\n",
              "</table>\n",
              "</div>\n",
              "    <div class=\"colab-df-buttons\">\n",
              "\n",
              "  <div class=\"colab-df-container\">\n",
              "    <button class=\"colab-df-convert\" onclick=\"convertToInteractive('df-a0a2f877-3787-4c08-bea0-7c9b2b5d7d1c')\"\n",
              "            title=\"Convert this dataframe to an interactive table.\"\n",
              "            style=\"display:none;\">\n",
              "\n",
              "  <svg xmlns=\"http://www.w3.org/2000/svg\" height=\"24px\" viewBox=\"0 -960 960 960\">\n",
              "    <path d=\"M120-120v-720h720v720H120Zm60-500h600v-160H180v160Zm220 220h160v-160H400v160Zm0 220h160v-160H400v160ZM180-400h160v-160H180v160Zm440 0h160v-160H620v160ZM180-180h160v-160H180v160Zm440 0h160v-160H620v160Z\"/>\n",
              "  </svg>\n",
              "    </button>\n",
              "\n",
              "  <style>\n",
              "    .colab-df-container {\n",
              "      display:flex;\n",
              "      gap: 12px;\n",
              "    }\n",
              "\n",
              "    .colab-df-convert {\n",
              "      background-color: #E8F0FE;\n",
              "      border: none;\n",
              "      border-radius: 50%;\n",
              "      cursor: pointer;\n",
              "      display: none;\n",
              "      fill: #1967D2;\n",
              "      height: 32px;\n",
              "      padding: 0 0 0 0;\n",
              "      width: 32px;\n",
              "    }\n",
              "\n",
              "    .colab-df-convert:hover {\n",
              "      background-color: #E2EBFA;\n",
              "      box-shadow: 0px 1px 2px rgba(60, 64, 67, 0.3), 0px 1px 3px 1px rgba(60, 64, 67, 0.15);\n",
              "      fill: #174EA6;\n",
              "    }\n",
              "\n",
              "    .colab-df-buttons div {\n",
              "      margin-bottom: 4px;\n",
              "    }\n",
              "\n",
              "    [theme=dark] .colab-df-convert {\n",
              "      background-color: #3B4455;\n",
              "      fill: #D2E3FC;\n",
              "    }\n",
              "\n",
              "    [theme=dark] .colab-df-convert:hover {\n",
              "      background-color: #434B5C;\n",
              "      box-shadow: 0px 1px 3px 1px rgba(0, 0, 0, 0.15);\n",
              "      filter: drop-shadow(0px 1px 2px rgba(0, 0, 0, 0.3));\n",
              "      fill: #FFFFFF;\n",
              "    }\n",
              "  </style>\n",
              "\n",
              "    <script>\n",
              "      const buttonEl =\n",
              "        document.querySelector('#df-a0a2f877-3787-4c08-bea0-7c9b2b5d7d1c button.colab-df-convert');\n",
              "      buttonEl.style.display =\n",
              "        google.colab.kernel.accessAllowed ? 'block' : 'none';\n",
              "\n",
              "      async function convertToInteractive(key) {\n",
              "        const element = document.querySelector('#df-a0a2f877-3787-4c08-bea0-7c9b2b5d7d1c');\n",
              "        const dataTable =\n",
              "          await google.colab.kernel.invokeFunction('convertToInteractive',\n",
              "                                                    [key], {});\n",
              "        if (!dataTable) return;\n",
              "\n",
              "        const docLinkHtml = 'Like what you see? Visit the ' +\n",
              "          '<a target=\"_blank\" href=https://colab.research.google.com/notebooks/data_table.ipynb>data table notebook</a>'\n",
              "          + ' to learn more about interactive tables.';\n",
              "        element.innerHTML = '';\n",
              "        dataTable['output_type'] = 'display_data';\n",
              "        await google.colab.output.renderOutput(dataTable, element);\n",
              "        const docLink = document.createElement('div');\n",
              "        docLink.innerHTML = docLinkHtml;\n",
              "        element.appendChild(docLink);\n",
              "      }\n",
              "    </script>\n",
              "  </div>\n",
              "\n",
              "\n",
              "<div id=\"df-cbb88c83-df12-4256-9b0c-1d383eaab8e0\">\n",
              "  <button class=\"colab-df-quickchart\" onclick=\"quickchart('df-cbb88c83-df12-4256-9b0c-1d383eaab8e0')\"\n",
              "            title=\"Suggest charts\"\n",
              "            style=\"display:none;\">\n",
              "\n",
              "<svg xmlns=\"http://www.w3.org/2000/svg\" height=\"24px\"viewBox=\"0 0 24 24\"\n",
              "     width=\"24px\">\n",
              "    <g>\n",
              "        <path d=\"M19 3H5c-1.1 0-2 .9-2 2v14c0 1.1.9 2 2 2h14c1.1 0 2-.9 2-2V5c0-1.1-.9-2-2-2zM9 17H7v-7h2v7zm4 0h-2V7h2v10zm4 0h-2v-4h2v4z\"/>\n",
              "    </g>\n",
              "</svg>\n",
              "  </button>\n",
              "\n",
              "<style>\n",
              "  .colab-df-quickchart {\n",
              "      --bg-color: #E8F0FE;\n",
              "      --fill-color: #1967D2;\n",
              "      --hover-bg-color: #E2EBFA;\n",
              "      --hover-fill-color: #174EA6;\n",
              "      --disabled-fill-color: #AAA;\n",
              "      --disabled-bg-color: #DDD;\n",
              "  }\n",
              "\n",
              "  [theme=dark] .colab-df-quickchart {\n",
              "      --bg-color: #3B4455;\n",
              "      --fill-color: #D2E3FC;\n",
              "      --hover-bg-color: #434B5C;\n",
              "      --hover-fill-color: #FFFFFF;\n",
              "      --disabled-bg-color: #3B4455;\n",
              "      --disabled-fill-color: #666;\n",
              "  }\n",
              "\n",
              "  .colab-df-quickchart {\n",
              "    background-color: var(--bg-color);\n",
              "    border: none;\n",
              "    border-radius: 50%;\n",
              "    cursor: pointer;\n",
              "    display: none;\n",
              "    fill: var(--fill-color);\n",
              "    height: 32px;\n",
              "    padding: 0;\n",
              "    width: 32px;\n",
              "  }\n",
              "\n",
              "  .colab-df-quickchart:hover {\n",
              "    background-color: var(--hover-bg-color);\n",
              "    box-shadow: 0 1px 2px rgba(60, 64, 67, 0.3), 0 1px 3px 1px rgba(60, 64, 67, 0.15);\n",
              "    fill: var(--button-hover-fill-color);\n",
              "  }\n",
              "\n",
              "  .colab-df-quickchart-complete:disabled,\n",
              "  .colab-df-quickchart-complete:disabled:hover {\n",
              "    background-color: var(--disabled-bg-color);\n",
              "    fill: var(--disabled-fill-color);\n",
              "    box-shadow: none;\n",
              "  }\n",
              "\n",
              "  .colab-df-spinner {\n",
              "    border: 2px solid var(--fill-color);\n",
              "    border-color: transparent;\n",
              "    border-bottom-color: var(--fill-color);\n",
              "    animation:\n",
              "      spin 1s steps(1) infinite;\n",
              "  }\n",
              "\n",
              "  @keyframes spin {\n",
              "    0% {\n",
              "      border-color: transparent;\n",
              "      border-bottom-color: var(--fill-color);\n",
              "      border-left-color: var(--fill-color);\n",
              "    }\n",
              "    20% {\n",
              "      border-color: transparent;\n",
              "      border-left-color: var(--fill-color);\n",
              "      border-top-color: var(--fill-color);\n",
              "    }\n",
              "    30% {\n",
              "      border-color: transparent;\n",
              "      border-left-color: var(--fill-color);\n",
              "      border-top-color: var(--fill-color);\n",
              "      border-right-color: var(--fill-color);\n",
              "    }\n",
              "    40% {\n",
              "      border-color: transparent;\n",
              "      border-right-color: var(--fill-color);\n",
              "      border-top-color: var(--fill-color);\n",
              "    }\n",
              "    60% {\n",
              "      border-color: transparent;\n",
              "      border-right-color: var(--fill-color);\n",
              "    }\n",
              "    80% {\n",
              "      border-color: transparent;\n",
              "      border-right-color: var(--fill-color);\n",
              "      border-bottom-color: var(--fill-color);\n",
              "    }\n",
              "    90% {\n",
              "      border-color: transparent;\n",
              "      border-bottom-color: var(--fill-color);\n",
              "    }\n",
              "  }\n",
              "</style>\n",
              "\n",
              "  <script>\n",
              "    async function quickchart(key) {\n",
              "      const quickchartButtonEl =\n",
              "        document.querySelector('#' + key + ' button');\n",
              "      quickchartButtonEl.disabled = true;  // To prevent multiple clicks.\n",
              "      quickchartButtonEl.classList.add('colab-df-spinner');\n",
              "      try {\n",
              "        const charts = await google.colab.kernel.invokeFunction(\n",
              "            'suggestCharts', [key], {});\n",
              "      } catch (error) {\n",
              "        console.error('Error during call to suggestCharts:', error);\n",
              "      }\n",
              "      quickchartButtonEl.classList.remove('colab-df-spinner');\n",
              "      quickchartButtonEl.classList.add('colab-df-quickchart-complete');\n",
              "    }\n",
              "    (() => {\n",
              "      let quickchartButtonEl =\n",
              "        document.querySelector('#df-cbb88c83-df12-4256-9b0c-1d383eaab8e0 button');\n",
              "      quickchartButtonEl.style.display =\n",
              "        google.colab.kernel.accessAllowed ? 'block' : 'none';\n",
              "    })();\n",
              "  </script>\n",
              "</div>\n",
              "\n",
              "  <div id=\"id_e75ce0f7-ed2e-4c6e-889c-e04357413dd1\">\n",
              "    <style>\n",
              "      .colab-df-generate {\n",
              "        background-color: #E8F0FE;\n",
              "        border: none;\n",
              "        border-radius: 50%;\n",
              "        cursor: pointer;\n",
              "        display: none;\n",
              "        fill: #1967D2;\n",
              "        height: 32px;\n",
              "        padding: 0 0 0 0;\n",
              "        width: 32px;\n",
              "      }\n",
              "\n",
              "      .colab-df-generate:hover {\n",
              "        background-color: #E2EBFA;\n",
              "        box-shadow: 0px 1px 2px rgba(60, 64, 67, 0.3), 0px 1px 3px 1px rgba(60, 64, 67, 0.15);\n",
              "        fill: #174EA6;\n",
              "      }\n",
              "\n",
              "      [theme=dark] .colab-df-generate {\n",
              "        background-color: #3B4455;\n",
              "        fill: #D2E3FC;\n",
              "      }\n",
              "\n",
              "      [theme=dark] .colab-df-generate:hover {\n",
              "        background-color: #434B5C;\n",
              "        box-shadow: 0px 1px 3px 1px rgba(0, 0, 0, 0.15);\n",
              "        filter: drop-shadow(0px 1px 2px rgba(0, 0, 0, 0.3));\n",
              "        fill: #FFFFFF;\n",
              "      }\n",
              "    </style>\n",
              "    <button class=\"colab-df-generate\" onclick=\"generateWithVariable('samples_df')\"\n",
              "            title=\"Generate code using this dataframe.\"\n",
              "            style=\"display:none;\">\n",
              "\n",
              "  <svg xmlns=\"http://www.w3.org/2000/svg\" height=\"24px\"viewBox=\"0 0 24 24\"\n",
              "       width=\"24px\">\n",
              "    <path d=\"M7,19H8.4L18.45,9,17,7.55,7,17.6ZM5,21V16.75L18.45,3.32a2,2,0,0,1,2.83,0l1.4,1.43a1.91,1.91,0,0,1,.58,1.4,1.91,1.91,0,0,1-.58,1.4L9.25,21ZM18.45,9,17,7.55Zm-12,3A5.31,5.31,0,0,0,4.9,8.1,5.31,5.31,0,0,0,1,6.5,5.31,5.31,0,0,0,4.9,4.9,5.31,5.31,0,0,0,6.5,1,5.31,5.31,0,0,0,8.1,4.9,5.31,5.31,0,0,0,12,6.5,5.46,5.46,0,0,0,6.5,12Z\"/>\n",
              "  </svg>\n",
              "    </button>\n",
              "    <script>\n",
              "      (() => {\n",
              "      const buttonEl =\n",
              "        document.querySelector('#id_e75ce0f7-ed2e-4c6e-889c-e04357413dd1 button.colab-df-generate');\n",
              "      buttonEl.style.display =\n",
              "        google.colab.kernel.accessAllowed ? 'block' : 'none';\n",
              "\n",
              "      buttonEl.onclick = () => {\n",
              "        google.colab.notebook.generateWithVariable('samples_df');\n",
              "      }\n",
              "      })();\n",
              "    </script>\n",
              "  </div>\n",
              "\n",
              "    </div>\n",
              "  </div>\n"
            ],
            "application/vnd.google.colaboratory.intrinsic+json": {
              "type": "dataframe",
              "variable_name": "samples_df",
              "summary": "{\n  \"name\": \"samples_df\",\n  \"rows\": 5,\n  \"fields\": [\n    {\n      \"column\": \"html_url\",\n      \"properties\": {\n        \"dtype\": \"category\",\n        \"num_unique_values\": 1,\n        \"samples\": [\n          \"https://github.com/huggingface/datasets/issues/824\"\n        ],\n        \"semantic_type\": \"\",\n        \"description\": \"\"\n      }\n    },\n    {\n      \"column\": \"title\",\n      \"properties\": {\n        \"dtype\": \"category\",\n        \"num_unique_values\": 1,\n        \"samples\": [\n          \"Discussion using datasets in offline mode\"\n        ],\n        \"semantic_type\": \"\",\n        \"description\": \"\"\n      }\n    },\n    {\n      \"column\": \"comments\",\n      \"properties\": {\n        \"dtype\": \"string\",\n        \"num_unique_values\": 5,\n        \"samples\": [\n          \"The local dataset builders (csv, text , json and pandas) are now part of the `datasets` package since #1726 :)\\r\\nYou can now use them offline\\r\\n```python\\r\\ndatasets = load_dataset('text', data_files=data_files)\\r\\n```\\r\\n\\r\\nWe'll do a new release soon\"\n        ],\n        \"semantic_type\": \"\",\n        \"description\": \"\"\n      }\n    },\n    {\n      \"column\": \"body\",\n      \"properties\": {\n        \"dtype\": \"category\",\n        \"num_unique_values\": 1,\n        \"samples\": [\n          \"`datasets.load_dataset(\\\"csv\\\", ...)` breaks if you have no connection (There is already this issue https://github.com/huggingface/datasets/issues/761 about it). It seems to be the same for metrics too.\\r\\n\\r\\nI create this ticket to discuss a bit and gather what you have in mind or other propositions.\\r\\n\\r\\nHere are some points to open discussion:\\r\\n- if you want to prepare your code/datasets on your machine (having internet connexion) but run it on another offline machine (not having internet connexion), it won't work as is, even if you have all files locally on this machine.\\r\\n- AFAIK, you can make it work if you manually put the python files (csv.py for example) on this offline machine and change your code to `datasets.load_dataset(\\\"MY_PATH/csv.py\\\", ...)`. But it would be much better if you could run ths same code without modification if files are available locally.\\r\\n- I've also been considering the requirement of downloading Python code and execute on your machine to use datasets. This can be an issue in a professional context. Downloading a CSV/H5 file is acceptable, downloading an executable script can open many security issues. We certainly need a mechanism to at least \\\"freeze\\\" the dataset code you retrieved once so that you can review it if you want and then be sure you use this one everywhere and not a version dowloaded from internet.\\r\\n \\r\\nWDYT? (thks)\\r\\n\\r\\n\"\n        ],\n        \"semantic_type\": \"\",\n        \"description\": \"\"\n      }\n    },\n    {\n      \"column\": \"comment_length\",\n      \"properties\": {\n        \"dtype\": \"number\",\n        \"std\": 57,\n        \"min\": 38,\n        \"max\": 179,\n        \"num_unique_values\": 5,\n        \"samples\": [\n          38\n        ],\n        \"semantic_type\": \"\",\n        \"description\": \"\"\n      }\n    },\n    {\n      \"column\": \"text\",\n      \"properties\": {\n        \"dtype\": \"string\",\n        \"num_unique_values\": 5,\n        \"samples\": [\n          \"Discussion using datasets in offline mode \\n `datasets.load_dataset(\\\"csv\\\", ...)` breaks if you have no connection (There is already this issue https://github.com/huggingface/datasets/issues/761 about it). It seems to be the same for metrics too.\\r\\n\\r\\nI create this ticket to discuss a bit and gather what you have in mind or other propositions.\\r\\n\\r\\nHere are some points to open discussion:\\r\\n- if you want to prepare your code/datasets on your machine (having internet connexion) but run it on another offline machine (not having internet connexion), it won't work as is, even if you have all files locally on this machine.\\r\\n- AFAIK, you can make it work if you manually put the python files (csv.py for example) on this offline machine and change your code to `datasets.load_dataset(\\\"MY_PATH/csv.py\\\", ...)`. But it would be much better if you could run ths same code without modification if files are available locally.\\r\\n- I've also been considering the requirement of downloading Python code and execute on your machine to use datasets. This can be an issue in a professional context. Downloading a CSV/H5 file is acceptable, downloading an executable script can open many security issues. We certainly need a mechanism to at least \\\"freeze\\\" the dataset code you retrieved once so that you can review it if you want and then be sure you use this one everywhere and not a version dowloaded from internet.\\r\\n \\r\\nWDYT? (thks)\\r\\n\\r\\n \\n The local dataset builders (csv, text , json and pandas) are now part of the `datasets` package since #1726 :)\\r\\nYou can now use them offline\\r\\n```python\\r\\ndatasets = load_dataset('text', data_files=data_files)\\r\\n```\\r\\n\\r\\nWe'll do a new release soon\"\n        ],\n        \"semantic_type\": \"\",\n        \"description\": \"\"\n      }\n    },\n    {\n      \"column\": \"embeddings\",\n      \"properties\": {\n        \"dtype\": \"object\",\n        \"semantic_type\": \"\",\n        \"description\": \"\"\n      }\n    },\n    {\n      \"column\": \"scores\",\n      \"properties\": {\n        \"dtype\": \"float32\",\n        \"num_unique_values\": 5,\n        \"samples\": [\n          24.555538177490234\n        ],\n        \"semantic_type\": \"\",\n        \"description\": \"\"\n      }\n    }\n  ]\n}"
            }
          },
          "metadata": {},
          "execution_count": 64
        }
      ]
    },
    {
      "cell_type": "code",
      "source": [
        "for _, row in samples_df.iterrows():\n",
        "    print(f\"COMMENT: {row.comments}\")\n",
        "    print(f\"SCORE: {row.scores}\")\n",
        "    print(f\"TITLE: {row.title}\")\n",
        "    print(f\"URL: {row.html_url}\")\n",
        "    print(\"=\" * 50)\n",
        "    print()"
      ],
      "metadata": {
        "colab": {
          "base_uri": "https://localhost:8080/"
        },
        "id": "j1xMtRH539Q8",
        "outputId": "e7d31860-ea00-458b-d491-e7c4db730bbc"
      },
      "execution_count": 65,
      "outputs": [
        {
          "output_type": "stream",
          "name": "stdout",
          "text": [
            "COMMENT: Requiring online connection is a deal breaker in some cases unfortunately so it'd be great if offline mode is added similar to how `transformers` loads models offline fine.\r\n",
            "\r\n",
            "@mandubian's second bullet point suggests that there's a workaround allowing you to use your offline (custom?) dataset with `datasets`. Could you please elaborate on how that should look like?\n",
            "SCORE: 25.505020141601562\n",
            "TITLE: Discussion using datasets in offline mode\n",
            "URL: https://github.com/huggingface/datasets/issues/824\n",
            "==================================================\n",
            "\n",
            "COMMENT: The local dataset builders (csv, text , json and pandas) are now part of the `datasets` package since #1726 :)\r\n",
            "You can now use them offline\r\n",
            "```python\r\n",
            "datasets = load_dataset('text', data_files=data_files)\r\n",
            "```\r\n",
            "\r\n",
            "We'll do a new release soon\n",
            "SCORE: 24.555538177490234\n",
            "TITLE: Discussion using datasets in offline mode\n",
            "URL: https://github.com/huggingface/datasets/issues/824\n",
            "==================================================\n",
            "\n",
            "COMMENT: I opened a PR that allows to reload modules that have already been loaded once even if there's no internet.\r\n",
            "\r\n",
            "Let me know if you know other ways that can make the offline mode experience better. I'd be happy to add them :) \r\n",
            "\r\n",
            "I already note the \"freeze\" modules option, to prevent local modules updates. It would be a cool feature.\r\n",
            "\r\n",
            "----------\r\n",
            "\r\n",
            "> @mandubian's second bullet point suggests that there's a workaround allowing you to use your offline (custom?) dataset with `datasets`. Could you please elaborate on how that should look like?\r\n",
            "\r\n",
            "Indeed `load_dataset` allows to load remote dataset script (squad, glue, etc.) but also you own local ones.\r\n",
            "For example if you have a dataset script at `./my_dataset/my_dataset.py` then you can do\r\n",
            "```python\r\n",
            "load_dataset(\"./my_dataset\")\r\n",
            "```\r\n",
            "and the dataset script will generate your dataset once and for all.\r\n",
            "\r\n",
            "----------\r\n",
            "\r\n",
            "About I'm looking into having `csv`, `json`, `text`, `pandas` dataset builders already included in the `datasets` package, so that they are available offline by default, as opposed to the other datasets that require the script to be downloaded.\r\n",
            "cf #1724 \n",
            "SCORE: 24.148988723754883\n",
            "TITLE: Discussion using datasets in offline mode\n",
            "URL: https://github.com/huggingface/datasets/issues/824\n",
            "==================================================\n",
            "\n",
            "COMMENT: > here is my way to load a dataset offline, but it **requires** an online machine\n",
            "> \n",
            "> 1. (online machine)\n",
            "> \n",
            "> ```\n",
            "> \n",
            "> import datasets\n",
            "> \n",
            "> data = datasets.load_dataset(...)\n",
            "> \n",
            "> data.save_to_disk(/YOUR/DATASET/DIR)\n",
            "> \n",
            "> ```\n",
            "> \n",
            "> 2. copy the dir from online to the offline machine\n",
            "> \n",
            "> 3. (offline machine)\n",
            "> \n",
            "> ```\n",
            "> \n",
            "> import datasets\n",
            "> \n",
            "> data = datasets.load_from_disk(/SAVED/DATA/DIR)\n",
            "> \n",
            "> ```\n",
            "> \n",
            "> \n",
            "> \n",
            "> HTH.\n",
            "\n",
            "\n",
            "SCORE: 22.894001007080078\n",
            "TITLE: Discussion using datasets in offline mode\n",
            "URL: https://github.com/huggingface/datasets/issues/824\n",
            "==================================================\n",
            "\n",
            "COMMENT: here is my way to load a dataset offline, but it **requires** an online machine\r\n",
            "1. (online machine)\r\n",
            "```\r\n",
            "import datasets\r\n",
            "data = datasets.load_dataset(...)\r\n",
            "data.save_to_disk(/YOUR/DATASET/DIR)\r\n",
            "```\r\n",
            "2. copy the dir from online to the offline machine\r\n",
            "3. (offline machine)\r\n",
            "```\r\n",
            "import datasets\r\n",
            "data = datasets.load_from_disk(/SAVED/DATA/DIR)\r\n",
            "```\r\n",
            "\r\n",
            "HTH.\n",
            "SCORE: 22.40665626525879\n",
            "TITLE: Discussion using datasets in offline mode\n",
            "URL: https://github.com/huggingface/datasets/issues/824\n",
            "==================================================\n",
            "\n"
          ]
        }
      ]
    },
    {
      "cell_type": "code",
      "source": [],
      "metadata": {
        "id": "p2f-VgGp7mzg"
      },
      "execution_count": null,
      "outputs": []
    }
  ]
}